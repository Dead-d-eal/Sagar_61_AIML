{
  "nbformat": 4,
  "nbformat_minor": 0,
  "metadata": {
    "colab": {
      "provenance": [],
      "authorship_tag": "ABX9TyO/JHTTBORPI5Cpo2gPIU8r",
      "include_colab_link": true
    },
    "kernelspec": {
      "name": "python3",
      "display_name": "Python 3"
    },
    "language_info": {
      "name": "python"
    }
  },
  "cells": [
    {
      "cell_type": "markdown",
      "metadata": {
        "id": "view-in-github",
        "colab_type": "text"
      },
      "source": [
        "<a href=\"https://colab.research.google.com/github/Dead-d-eal/Sagar_61_AIML/blob/main/Python_AIML_Project_1_1.ipynb\" target=\"_parent\"><img src=\"https://colab.research.google.com/assets/colab-badge.svg\" alt=\"Open In Colab\"/></a>"
      ]
    },
    {
      "cell_type": "markdown",
      "source": [
        "QUESTION 1: Write the PYHON programming to input n and print the following programs:\n",
        "Using for loop:\n",
        "\n",
        "(i)"
      ],
      "metadata": {
        "id": "E8Rc9G_vMzwc"
      }
    },
    {
      "cell_type": "code",
      "execution_count": null,
      "metadata": {
        "colab": {
          "base_uri": "https://localhost:8080/"
        },
        "id": "atr5cyInMj84",
        "outputId": "69b1597f-0852-4790-dbda-eee0d41a2f93"
      },
      "outputs": [
        {
          "output_type": "stream",
          "name": "stdout",
          "text": [
            "Enter the number: 20\n",
            "1, 2, 3, 4, 5, 6, 7, 8, 9, 10, 11, 12, 13, 14, 15, 16, 17, 18, 19, 20, "
          ]
        }
      ],
      "source": [
        "n=int(input(\"Enter the number: \"))\n",
        "for i in range(n):\n",
        "  print(i+1,end=', ')"
      ]
    },
    {
      "cell_type": "markdown",
      "source": [
        "(ii)"
      ],
      "metadata": {
        "id": "j72pIk9rOZHN"
      }
    },
    {
      "cell_type": "code",
      "source": [
        "n=int(input(\"Enter the value: \"))\n",
        "for i in range(1,n,2):\n",
        "  print(i,end=', ')"
      ],
      "metadata": {
        "colab": {
          "base_uri": "https://localhost:8080/"
        },
        "id": "cTC12iFOOcKV",
        "outputId": "5ab48beb-234d-4031-fe49-878bd2ddfa5d"
      },
      "execution_count": null,
      "outputs": [
        {
          "output_type": "stream",
          "name": "stdout",
          "text": [
            "Enter the value: 20\n",
            "1, 3, 5, 7, 9, 11, 13, 15, 17, 19, "
          ]
        }
      ]
    },
    {
      "cell_type": "markdown",
      "source": [
        "(iii)"
      ],
      "metadata": {
        "id": "YGjrnBkxOtyt"
      }
    },
    {
      "cell_type": "code",
      "source": [
        "n=int(input(\"Enter the value: \"))\n",
        "for i in range(2,n,2):\n",
        "  print(i,end=', ')"
      ],
      "metadata": {
        "colab": {
          "base_uri": "https://localhost:8080/"
        },
        "id": "zDfb1ZpYOwBo",
        "outputId": "d866bdbe-75a3-48b5-d598-939181e86d58"
      },
      "execution_count": null,
      "outputs": [
        {
          "output_type": "stream",
          "name": "stdout",
          "text": [
            "Enter the value: 20\n",
            "2, 4, 6, 8, 10, 12, 14, 16, 18, "
          ]
        }
      ]
    },
    {
      "cell_type": "markdown",
      "source": [
        "(iv)"
      ],
      "metadata": {
        "id": "D4NsshsaO-eu"
      }
    },
    {
      "cell_type": "code",
      "source": [
        "n=int(input(\"Enter the number: \"))\n",
        "for i in range(1,n):\n",
        "  c=i*i\n",
        "  print(c,end=', ')"
      ],
      "metadata": {
        "colab": {
          "base_uri": "https://localhost:8080/"
        },
        "id": "Kry4bCE2PA12",
        "outputId": "5627c903-7610-4174-bb19-1637b7768282"
      },
      "execution_count": null,
      "outputs": [
        {
          "output_type": "stream",
          "name": "stdout",
          "text": [
            "Enter the number: 20\n",
            "1, 4, 9, 16, 25, 36, 49, 64, 81, 100, 121, 144, 169, 196, 225, 256, 289, 324, 361, "
          ]
        }
      ]
    },
    {
      "cell_type": "markdown",
      "source": [
        "(v)"
      ],
      "metadata": {
        "id": "vM9JbI4ARzca"
      }
    },
    {
      "cell_type": "code",
      "source": [
        "n=int(input(\"Enter the number: \"))\n",
        "for i in range(1,n,2):\n",
        "  c=i*i\n",
        "  print(c,end=', ')"
      ],
      "metadata": {
        "colab": {
          "base_uri": "https://localhost:8080/"
        },
        "id": "zzxtgit7R3Bp",
        "outputId": "e47ab4d0-53ce-4283-e11b-816216a98d04"
      },
      "execution_count": null,
      "outputs": [
        {
          "output_type": "stream",
          "name": "stdout",
          "text": [
            "Enter the number: 20\n",
            "1, 9, 25, 49, 81, 121, 169, 225, 289, 361, "
          ]
        }
      ]
    },
    {
      "cell_type": "markdown",
      "source": [
        "(vi)"
      ],
      "metadata": {
        "id": "NYBNgSzNSEkS"
      }
    },
    {
      "cell_type": "code",
      "source": [
        "n=int(input(\"Enter the number: \"))\n",
        "for i in range(2,n,2):\n",
        "  c=i*i\n",
        "  print(c,end=', ')"
      ],
      "metadata": {
        "colab": {
          "base_uri": "https://localhost:8080/"
        },
        "id": "lzP07d6KSGpU",
        "outputId": "51538542-f3b9-4b0a-c37a-a6ead5087df2"
      },
      "execution_count": null,
      "outputs": [
        {
          "output_type": "stream",
          "name": "stdout",
          "text": [
            "Enter the number: 20\n",
            "4, 16, 36, 64, 100, 144, 196, 256, 324, "
          ]
        }
      ]
    },
    {
      "cell_type": "markdown",
      "source": [
        "(vii)"
      ],
      "metadata": {
        "id": "vTZxPzCDgNCF"
      }
    },
    {
      "cell_type": "code",
      "source": [
        "n=int(input(\"Enter a number: \"))\n",
        "e=int(input(\"Enter a value: \"))\n",
        "for j in range(1,n):\n",
        "  def power(j,e):\n",
        "    res=0\n",
        "    for i in range(e):\n",
        "        res *= j\n",
        "    return res   \n",
        "  print(pow(j,e),end=', ')\n"
      ],
      "metadata": {
        "colab": {
          "base_uri": "https://localhost:8080/"
        },
        "id": "lsqbF3KteCqT",
        "outputId": "cd938e93-2b3f-43ce-d6e4-94fc0728fe73"
      },
      "execution_count": null,
      "outputs": [
        {
          "output_type": "stream",
          "name": "stdout",
          "text": [
            "Enter a number: 10\n",
            "Enter a value: 4\n",
            "1, 16, 81, 256, 625, 1296, 2401, 4096, 6561, "
          ]
        }
      ]
    },
    {
      "cell_type": "markdown",
      "source": [
        "(viii)"
      ],
      "metadata": {
        "id": "XHimHKtTRocc"
      }
    },
    {
      "cell_type": "code",
      "source": [
        "n=int(input(\"Enter a number: \"))\n",
        "e=int(input(\"Enter a value: \"))\n",
        "for j in range(1,n,2):\n",
        "  def power(j,e):\n",
        "    res=0\n",
        "    for i in range(e):\n",
        "        res *= j\n",
        "    return res   \n",
        "  print(pow(j,e),end=', ')\n"
      ],
      "metadata": {
        "colab": {
          "base_uri": "https://localhost:8080/"
        },
        "id": "ycx0BsuoRrDM",
        "outputId": "34deb416-7b26-49f4-d31d-2af891844072"
      },
      "execution_count": null,
      "outputs": [
        {
          "output_type": "stream",
          "name": "stdout",
          "text": [
            "Enter a number: 10\n",
            "Enter a value: 3\n",
            "1, 27, 125, 343, 729, "
          ]
        }
      ]
    },
    {
      "cell_type": "markdown",
      "source": [
        "(ix)"
      ],
      "metadata": {
        "id": "s9JIZbEXgccd"
      }
    },
    {
      "cell_type": "code",
      "source": [
        "n=int(input(\"Enter a number: \"))\n",
        "e=int(input(\"Enter a value: \"))\n",
        "for j in range(2,n,2):\n",
        "  def power(j,e):\n",
        "    res=0\n",
        "    for i in range(e):\n",
        "        res *= j\n",
        "    return res   \n",
        "  print(pow(j,e),end=', ')\n"
      ],
      "metadata": {
        "colab": {
          "base_uri": "https://localhost:8080/"
        },
        "id": "2afx4337giM5",
        "outputId": "c6f430ad-8394-44e2-a1d8-7e4215dcb2cd"
      },
      "execution_count": null,
      "outputs": [
        {
          "output_type": "stream",
          "name": "stdout",
          "text": [
            "Enter a number: 20\n",
            "Enter a value: 4\n",
            "16, 256, 1296, 4096, 10000, 20736, 38416, 65536, 104976, "
          ]
        }
      ]
    },
    {
      "cell_type": "markdown",
      "source": [
        "(x)"
      ],
      "metadata": {
        "id": "TGwqBkbQgo0W"
      }
    },
    {
      "cell_type": "code",
      "source": [
        "n=int(input(\"Enter a number: \"))\n",
        "f=1\n",
        "for i in range(1,n + 1):\n",
        "       f = f*i\n",
        "print(f)"
      ],
      "metadata": {
        "colab": {
          "base_uri": "https://localhost:8080/"
        },
        "id": "yRUGyWkmgtg0",
        "outputId": "a035e7f7-0bba-457a-e81f-52f9c42e6db8"
      },
      "execution_count": null,
      "outputs": [
        {
          "output_type": "stream",
          "name": "stdout",
          "text": [
            "Enter a number: 3\n",
            "6\n"
          ]
        }
      ]
    },
    {
      "cell_type": "markdown",
      "source": [
        "(xi)"
      ],
      "metadata": {
        "id": "APSSOXzTmdew"
      }
    },
    {
      "cell_type": "code",
      "source": [
        "n=int(input(\"Enter a number: \"))\n",
        "for i in range(1,n):\n",
        "  f=1\n",
        "  for j in range(1,i+1):\n",
        "    f=f*j\n",
        "  print(f,end=', ')"
      ],
      "metadata": {
        "colab": {
          "base_uri": "https://localhost:8080/"
        },
        "id": "k2x5vAJHmf_2",
        "outputId": "75d55036-e5ef-4495-ad99-51b372e610b4"
      },
      "execution_count": null,
      "outputs": [
        {
          "output_type": "stream",
          "name": "stdout",
          "text": [
            "Enter a number: 10\n",
            "1, 2, 6, 24, 120, 720, 5040, 40320, 362880, "
          ]
        }
      ]
    },
    {
      "cell_type": "markdown",
      "source": [
        "(xii)"
      ],
      "metadata": {
        "id": "ScI42MfMnpGs"
      }
    },
    {
      "cell_type": "code",
      "source": [
        "n=int(input(\"Enter a number: \"))\n",
        "for i in range(1,n,2):\n",
        "  f=1\n",
        "  for j in range(1,i+1):\n",
        "    f=f*j\n",
        "  print(f,end=', ')"
      ],
      "metadata": {
        "colab": {
          "base_uri": "https://localhost:8080/"
        },
        "id": "AzJmbmCEnsOI",
        "outputId": "fbf7fb23-54c7-4aae-e565-65347ac327d9"
      },
      "execution_count": null,
      "outputs": [
        {
          "output_type": "stream",
          "name": "stdout",
          "text": [
            "Enter a number: 10\n",
            "1, 6, 120, 5040, 362880, "
          ]
        }
      ]
    },
    {
      "cell_type": "markdown",
      "source": [
        "(xiii)"
      ],
      "metadata": {
        "id": "QIkwkO3Tn2rI"
      }
    },
    {
      "cell_type": "code",
      "source": [
        "n=int(input(\"Enter a number: \"))\n",
        "for i in range(2,n,2):\n",
        "  f=1\n",
        "  for j in range(1,i+1):\n",
        "    f=f*j\n",
        "  print(f,end=', ')"
      ],
      "metadata": {
        "colab": {
          "base_uri": "https://localhost:8080/"
        },
        "id": "k_7do7CEn5vL",
        "outputId": "cb49e9ee-e81c-4185-9a29-f9fcd98a5a48"
      },
      "execution_count": null,
      "outputs": [
        {
          "output_type": "stream",
          "name": "stdout",
          "text": [
            "Enter a number: 10\n",
            "2, 24, 720, 40320, "
          ]
        }
      ]
    },
    {
      "cell_type": "markdown",
      "source": [
        "Using while loop"
      ],
      "metadata": {
        "id": "JElq1oPPoA4O"
      }
    },
    {
      "cell_type": "markdown",
      "source": [
        "(i)"
      ],
      "metadata": {
        "id": "BP_KR2C1oJf1"
      }
    },
    {
      "cell_type": "code",
      "source": [
        "n = int(input(\"Enter a number: \"))\n",
        "i=1\n",
        "while i<=n:\n",
        "   print(i, end=', ')\n",
        "   i=i+1"
      ],
      "metadata": {
        "colab": {
          "base_uri": "https://localhost:8080/"
        },
        "id": "N_WAGrDzoF1Z",
        "outputId": "27faf921-08e7-4215-9c92-2836032bb908"
      },
      "execution_count": null,
      "outputs": [
        {
          "output_type": "stream",
          "name": "stdout",
          "text": [
            "Enter a number: 10\n",
            "1, 2, 3, 4, 5, 6, 7, 8, 9, 10, "
          ]
        }
      ]
    },
    {
      "cell_type": "markdown",
      "source": [
        "(ii)"
      ],
      "metadata": {
        "id": "YJKud0kSp1Ox"
      }
    },
    {
      "cell_type": "code",
      "source": [
        "n = int(input(\"Enter a number: \"))\n",
        "i=1\n",
        "while i<=n:\n",
        "   if i%2==0:\n",
        "     print(i, end=', ')\n",
        "   i=i+1"
      ],
      "metadata": {
        "colab": {
          "base_uri": "https://localhost:8080/"
        },
        "id": "p4-maeNnp3cx",
        "outputId": "96464358-2b78-43f3-ec60-735070036da2"
      },
      "execution_count": null,
      "outputs": [
        {
          "output_type": "stream",
          "name": "stdout",
          "text": [
            "Enter a number: 10\n",
            "2, 4, 6, 8, 10, "
          ]
        }
      ]
    },
    {
      "cell_type": "markdown",
      "source": [
        "(iii)"
      ],
      "metadata": {
        "id": "LLC1-2rxqZug"
      }
    },
    {
      "cell_type": "code",
      "source": [
        "n = int(input(\"Enter a number: \"))\n",
        "i=1\n",
        "while i<=n:\n",
        "   if i%2!=0:\n",
        "     print(i, end=', ')\n",
        "   i=i+1"
      ],
      "metadata": {
        "colab": {
          "base_uri": "https://localhost:8080/"
        },
        "id": "Tw0mK2Ffqcf8",
        "outputId": "c741de29-cdc7-4b75-f5b7-377f143e3da4"
      },
      "execution_count": null,
      "outputs": [
        {
          "output_type": "stream",
          "name": "stdout",
          "text": [
            "Enter a number: 10\n",
            "1, 3, 5, 7, 9, "
          ]
        }
      ]
    },
    {
      "cell_type": "markdown",
      "source": [
        "(iv)"
      ],
      "metadata": {
        "id": "OdkWV8d3qq9S"
      }
    },
    {
      "cell_type": "code",
      "source": [
        "n = int(input(\"Enter a number: \"))\n",
        "i=1\n",
        "while i<=n:\n",
        "  c=i*i\n",
        "  print(c, end=', ')\n",
        "  i=i+1"
      ],
      "metadata": {
        "colab": {
          "base_uri": "https://localhost:8080/"
        },
        "id": "vz_g21oQqt2B",
        "outputId": "6ec927b0-db07-4957-918c-47e7237659e3"
      },
      "execution_count": null,
      "outputs": [
        {
          "output_type": "stream",
          "name": "stdout",
          "text": [
            "Enter a number: 10\n",
            "1, 4, 9, 16, 25, 36, 49, 64, 81, 100, "
          ]
        }
      ]
    },
    {
      "cell_type": "markdown",
      "source": [
        "(v)"
      ],
      "metadata": {
        "id": "N7bOFbNdrLtD"
      }
    },
    {
      "cell_type": "code",
      "source": [
        "n = int(input(\"Enter a number: \"))\n",
        "i=1\n",
        "while i<=n:\n",
        "  if i%2==0:\n",
        "    c=i*i\n",
        "    print(c, end=', ')\n",
        "  i=i+1"
      ],
      "metadata": {
        "colab": {
          "base_uri": "https://localhost:8080/"
        },
        "id": "am7LvCjJrPYw",
        "outputId": "f29a492f-36ea-4e81-96c0-bd5503f15944"
      },
      "execution_count": null,
      "outputs": [
        {
          "output_type": "stream",
          "name": "stdout",
          "text": [
            "Enter a number: 10\n",
            "4, 16, 36, 64, 100, "
          ]
        }
      ]
    },
    {
      "cell_type": "markdown",
      "source": [
        "(vi)"
      ],
      "metadata": {
        "id": "mZ02tiz2rstw"
      }
    },
    {
      "cell_type": "code",
      "source": [
        "n = int(input(\"Enter a number: \"))\n",
        "i=1\n",
        "while i<=n:\n",
        "  if i%2!=0:\n",
        "    c=i*i\n",
        "    print(c, end=', ')\n",
        "  i=i+1"
      ],
      "metadata": {
        "colab": {
          "base_uri": "https://localhost:8080/"
        },
        "id": "Pq-kkPB7rukO",
        "outputId": "636ab164-246a-4630-a6a1-7984fd12f28c"
      },
      "execution_count": null,
      "outputs": [
        {
          "output_type": "stream",
          "name": "stdout",
          "text": [
            "Enter a number: 10\n",
            "1, 9, 25, 49, 81, "
          ]
        }
      ]
    },
    {
      "cell_type": "markdown",
      "source": [
        "(vii)"
      ],
      "metadata": {
        "id": "29VlvMecr25L"
      }
    },
    {
      "cell_type": "code",
      "source": [
        "n=int(input(\"Enter a number: \"))\n",
        "e=int(input(\"Enter a value: \"))\n",
        "i=1\n",
        "while i<=n:\n",
        "  def power(i,e):\n",
        "    res=0\n",
        "    for j in range(e):\n",
        "        res *= i\n",
        "    return res   \n",
        "  print(pow(i,e),end=', ')\n",
        "  i=i+1\n"
      ],
      "metadata": {
        "colab": {
          "base_uri": "https://localhost:8080/"
        },
        "id": "OBeWEnpTsMLI",
        "outputId": "7e2e64bf-7e69-4d82-b5e7-1aea424c4c23"
      },
      "execution_count": null,
      "outputs": [
        {
          "output_type": "stream",
          "name": "stdout",
          "text": [
            "Enter a number: 10\n",
            "Enter a value: 3\n",
            "1, 8, 27, 64, 125, 216, 343, 512, 729, 1000, "
          ]
        }
      ]
    },
    {
      "cell_type": "markdown",
      "source": [
        "(viii)"
      ],
      "metadata": {
        "id": "QiGUOTAEvWCJ"
      }
    },
    {
      "cell_type": "code",
      "source": [
        "n=int(input(\"Enter a number: \"))\n",
        "e=int(input(\"Enter a value: \"))\n",
        "i=1\n",
        "while i<=n:\n",
        "  if i%2==0:\n",
        "     def power(i,e):\n",
        "        res=0\n",
        "        for j in range(e):\n",
        "          res *= i\n",
        "        return res \n",
        "     print(pow(i,e),end=', ')\n",
        "  i=i+1\n",
        "  "
      ],
      "metadata": {
        "id": "f9PgtllfvY4r",
        "colab": {
          "base_uri": "https://localhost:8080/"
        },
        "outputId": "c98032be-41c9-414a-b772-29c96d920349"
      },
      "execution_count": 12,
      "outputs": [
        {
          "output_type": "stream",
          "name": "stdout",
          "text": [
            "Enter a number: 10\n",
            "Enter a value: 3\n",
            "8, 64, 216, 512, 1000, "
          ]
        }
      ]
    },
    {
      "cell_type": "markdown",
      "source": [
        "(ix)"
      ],
      "metadata": {
        "id": "Rxlv6UScxspG"
      }
    },
    {
      "cell_type": "code",
      "source": [
        "n=int(input(\"Enter a number: \"))\n",
        "e=int(input(\"Enter a value: \"))\n",
        "i=1\n",
        "while i<=n:\n",
        "  if i%2!=0:\n",
        "     def power(i,e):\n",
        "        res=0\n",
        "        for j in range(e):\n",
        "          res *= i\n",
        "        return res \n",
        "     print(pow(i,e),end=', ')\n",
        "  i=i+1\n",
        "  "
      ],
      "metadata": {
        "colab": {
          "base_uri": "https://localhost:8080/"
        },
        "id": "XAyKpBDnxr8V",
        "outputId": "5de60707-8132-44b3-e234-ee1b821a8c0d"
      },
      "execution_count": 13,
      "outputs": [
        {
          "output_type": "stream",
          "name": "stdout",
          "text": [
            "Enter a number: 10\n",
            "Enter a value: 3\n",
            "1, 27, 125, 343, 729, "
          ]
        }
      ]
    },
    {
      "cell_type": "markdown",
      "source": [
        "(x)"
      ],
      "metadata": {
        "id": "a0eKOUdeyxNK"
      }
    },
    {
      "cell_type": "code",
      "source": [
        "n=int(input(\"Enter a number: \"))\n",
        "f=1\n",
        "i=1\n",
        "while i<=n:\n",
        "  f=f*i\n",
        "  i=i+1\n",
        "print(f)"
      ],
      "metadata": {
        "colab": {
          "base_uri": "https://localhost:8080/"
        },
        "id": "6BkIpQ41yzZY",
        "outputId": "bbeb3e89-2e0c-47ba-ac31-ac4dff244ec7"
      },
      "execution_count": 16,
      "outputs": [
        {
          "output_type": "stream",
          "name": "stdout",
          "text": [
            "Enter a number: 4\n",
            "24\n"
          ]
        }
      ]
    },
    {
      "cell_type": "markdown",
      "source": [
        "(xi)"
      ],
      "metadata": {
        "id": "aKk4ZkZF5fhT"
      }
    },
    {
      "cell_type": "code",
      "source": [
        "n=int(input(\"Enter a number: \"))\n",
        "f=1\n",
        "i=1\n",
        "while i<=n:\n",
        "  f=f*i\n",
        "  print(f,end=', ')\n",
        "  i=i+1"
      ],
      "metadata": {
        "colab": {
          "base_uri": "https://localhost:8080/"
        },
        "id": "Rri72Wp75hPO",
        "outputId": "d29e4ab7-2c35-4a5e-a423-3a54cd21fcd1"
      },
      "execution_count": 22,
      "outputs": [
        {
          "output_type": "stream",
          "name": "stdout",
          "text": [
            "Enter a number: 10\n",
            "1, 2, 6, 24, 120, 720, 5040, 40320, 362880, 3628800, "
          ]
        }
      ]
    },
    {
      "cell_type": "markdown",
      "source": [
        "(xii)"
      ],
      "metadata": {
        "id": "tL2yFa7Y675y"
      }
    },
    {
      "cell_type": "code",
      "source": [
        "from re import I\n",
        "n=int(input(\"Enter a number: \"))\n",
        "f=1\n",
        "i=1\n",
        "while i<=n:\n",
        "   if i%2==0:\n",
        "     f=f*i\n",
        "     print(f,end=', ')\n",
        "   i=i+1"
      ],
      "metadata": {
        "colab": {
          "base_uri": "https://localhost:8080/"
        },
        "id": "wfSXxiiV6-lz",
        "outputId": "276af60d-4305-4f62-d135-c0be2673e3af"
      },
      "execution_count": 24,
      "outputs": [
        {
          "output_type": "stream",
          "name": "stdout",
          "text": [
            "Enter a number: 10\n",
            "2, 8, 48, 384, 3840, "
          ]
        }
      ]
    },
    {
      "cell_type": "markdown",
      "source": [
        "(xiii)"
      ],
      "metadata": {
        "id": "lez_K60W7eZ9"
      }
    },
    {
      "cell_type": "code",
      "source": [
        "from re import I\n",
        "n=int(input(\"Enter a number: \"))\n",
        "f=1\n",
        "i=1\n",
        "while i<=n:\n",
        "   if i%2!=0:\n",
        "     f=f*i\n",
        "     print(f,end=', ')\n",
        "   i=i+1"
      ],
      "metadata": {
        "colab": {
          "base_uri": "https://localhost:8080/"
        },
        "id": "tm2CZdSH7gMj",
        "outputId": "9c6a3873-74a4-4181-b8a6-fad55aec422c"
      },
      "execution_count": 25,
      "outputs": [
        {
          "output_type": "stream",
          "name": "stdout",
          "text": [
            "Enter a number: 10\n",
            "1, 3, 15, 105, 945, "
          ]
        }
      ]
    }
  ]
}