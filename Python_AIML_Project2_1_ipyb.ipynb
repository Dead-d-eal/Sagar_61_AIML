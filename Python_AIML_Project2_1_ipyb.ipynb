{
  "nbformat": 4,
  "nbformat_minor": 0,
  "metadata": {
    "colab": {
      "provenance": [],
      "authorship_tag": "ABX9TyMW/vAZ69zMKyilWGWkUZxw",
      "include_colab_link": true
    },
    "kernelspec": {
      "name": "python3",
      "display_name": "Python 3"
    },
    "language_info": {
      "name": "python"
    }
  },
  "cells": [
    {
      "cell_type": "markdown",
      "metadata": {
        "id": "view-in-github",
        "colab_type": "text"
      },
      "source": [
        "<a href=\"https://colab.research.google.com/github/Dead-d-eal/Sagar_61_AIML/blob/main/Python_AIML_Project2_1_ipyb.ipynb\" target=\"_parent\"><img src=\"https://colab.research.google.com/assets/colab-badge.svg\" alt=\"Open In Colab\"/></a>"
      ]
    },
    {
      "cell_type": "markdown",
      "source": [
        "Separately  , Using nested for, while looping structure for the following programs:"
      ],
      "metadata": {
        "id": "cxqTYFbWxdPv"
      }
    },
    {
      "cell_type": "markdown",
      "source": [
        "Using For loop"
      ],
      "metadata": {
        "id": "bEVGL8gYxrm2"
      }
    },
    {
      "cell_type": "markdown",
      "source": [
        "1(a)"
      ],
      "metadata": {
        "id": "uqKcS9zbxvJJ"
      }
    },
    {
      "cell_type": "code",
      "execution_count": 1,
      "metadata": {
        "colab": {
          "base_uri": "https://localhost:8080/"
        },
        "id": "XEc8fM3wxQLf",
        "outputId": "2e7f69e3-0024-40c1-d89d-31fe418404da"
      },
      "outputs": [
        {
          "output_type": "stream",
          "name": "stdout",
          "text": [
            "\n",
            "1 \n",
            "2 2 \n",
            "3 3 3 \n",
            "4 4 4 4 \n",
            "5 5 5 5 5 \n"
          ]
        }
      ],
      "source": [
        "for i in range(0,6):\n",
        "  for j in  range(i):\n",
        "    print(i,end=' ')\n",
        "  print()"
      ]
    },
    {
      "cell_type": "markdown",
      "source": [
        "1(b)"
      ],
      "metadata": {
        "id": "KeLqLlgdyS3O"
      }
    },
    {
      "cell_type": "code",
      "source": [
        "for i in range(5,0,-1):\n",
        "  for j in  range(0,i):\n",
        "    print(i,end=' ')\n",
        "  print()"
      ],
      "metadata": {
        "colab": {
          "base_uri": "https://localhost:8080/"
        },
        "id": "y2uKs2mHyUsQ",
        "outputId": "9ebb0518-9163-4488-b4f6-c8812715d62e"
      },
      "execution_count": 2,
      "outputs": [
        {
          "output_type": "stream",
          "name": "stdout",
          "text": [
            "5 5 5 5 5 \n",
            "4 4 4 4 \n",
            "3 3 3 \n",
            "2 2 \n",
            "1 \n"
          ]
        }
      ]
    },
    {
      "cell_type": "markdown",
      "source": [
        "1(c)"
      ],
      "metadata": {
        "id": "iCRZejqqygsD"
      }
    },
    {
      "cell_type": "code",
      "source": [
        "n=int(input(\"Enter a number: \"))\n",
        "for i in range(0,n):\n",
        "  for j in  range(i):\n",
        "    print(i+1,end=' ')\n",
        "  print()"
      ],
      "metadata": {
        "colab": {
          "base_uri": "https://localhost:8080/"
        },
        "id": "tX_uHY65yjHR",
        "outputId": "62efdee3-17ac-485d-ee06-72f6eb5f610f"
      },
      "execution_count": 6,
      "outputs": [
        {
          "output_type": "stream",
          "name": "stdout",
          "text": [
            "Enter a number: 8\n",
            "\n",
            "2 \n",
            "3 3 \n",
            "4 4 4 \n",
            "5 5 5 5 \n",
            "6 6 6 6 6 \n",
            "7 7 7 7 7 7 \n",
            "8 8 8 8 8 8 8 \n"
          ]
        }
      ]
    },
    {
      "cell_type": "markdown",
      "source": [
        "1(d)"
      ],
      "metadata": {
        "id": "Wv6sEhzgy1qU"
      }
    },
    {
      "cell_type": "code",
      "source": [
        "n=int(input(\"Enter a number: \"))\n",
        "for i in range(n,0,-1):\n",
        "  for j in  range(0,i):\n",
        "    print(i,end=' ')\n",
        "  print()"
      ],
      "metadata": {
        "colab": {
          "base_uri": "https://localhost:8080/"
        },
        "id": "cFJVGmtXy31i",
        "outputId": "e2e71496-0d53-4c5a-b5d0-13b3477db415"
      },
      "execution_count": 5,
      "outputs": [
        {
          "output_type": "stream",
          "name": "stdout",
          "text": [
            "Enter a number: 8\n",
            "8 8 8 8 8 8 8 8 \n",
            "7 7 7 7 7 7 7 \n",
            "6 6 6 6 6 6 \n",
            "5 5 5 5 5 \n",
            "4 4 4 4 \n",
            "3 3 3 \n",
            "2 2 \n",
            "1 \n"
          ]
        }
      ]
    },
    {
      "cell_type": "markdown",
      "source": [
        "1(e)"
      ],
      "metadata": {
        "id": "o0cFPKN6zUSJ"
      }
    },
    {
      "cell_type": "code",
      "source": [
        "for i in range(0,5):\n",
        "  for j in  range(i):\n",
        "    print(i,end=' ')\n",
        "  print()\n",
        "for i in range(5,0,-1):\n",
        "  for j in  range(0,i):\n",
        "    print(i,end=' ')\n",
        "  print()"
      ],
      "metadata": {
        "colab": {
          "base_uri": "https://localhost:8080/"
        },
        "id": "bOpzjLmRzWKM",
        "outputId": "bf7d3156-f8da-44a9-9d91-9d0dac3f130c"
      },
      "execution_count": 7,
      "outputs": [
        {
          "output_type": "stream",
          "name": "stdout",
          "text": [
            "\n",
            "1 \n",
            "2 2 \n",
            "3 3 3 \n",
            "4 4 4 4 \n",
            "5 5 5 5 5 \n",
            "4 4 4 4 \n",
            "3 3 3 \n",
            "2 2 \n",
            "1 \n"
          ]
        }
      ]
    },
    {
      "cell_type": "markdown",
      "source": [
        "1(f)"
      ],
      "metadata": {
        "id": "qyHaptPd0IJi"
      }
    },
    {
      "cell_type": "code",
      "source": [
        "n=int(input(\"Enter a number: \"))\n",
        "for i in range(0,n):\n",
        "  for j in  range(i):\n",
        "    print(i,end=' ')\n",
        "  print()\n",
        "for i in range(n,0,-1):\n",
        "  for j in  range(0,i):\n",
        "    print(i,end=' ')\n",
        "  print()"
      ],
      "metadata": {
        "colab": {
          "base_uri": "https://localhost:8080/"
        },
        "id": "OwVCui7s0Jlj",
        "outputId": "51d600b3-634e-42f0-e994-c255f0d1c50d"
      },
      "execution_count": 9,
      "outputs": [
        {
          "output_type": "stream",
          "name": "stdout",
          "text": [
            "Enter a number: 8\n",
            "\n",
            "1 \n",
            "2 2 \n",
            "3 3 3 \n",
            "4 4 4 4 \n",
            "5 5 5 5 5 \n",
            "6 6 6 6 6 6 \n",
            "7 7 7 7 7 7 7 \n",
            "8 8 8 8 8 8 8 8 \n",
            "7 7 7 7 7 7 7 \n",
            "6 6 6 6 6 6 \n",
            "5 5 5 5 5 \n",
            "4 4 4 4 \n",
            "3 3 3 \n",
            "2 2 \n",
            "1 \n"
          ]
        }
      ]
    },
    {
      "cell_type": "markdown",
      "source": [
        "2(a)"
      ],
      "metadata": {
        "id": "jRm0HC4Y0p9L"
      }
    },
    {
      "cell_type": "code",
      "source": [
        "for i in range(5,0,-1):\n",
        "  for j in  range(5,i-1,-1):\n",
        "    print(j,end=' ')\n",
        "  print()"
      ],
      "metadata": {
        "colab": {
          "base_uri": "https://localhost:8080/"
        },
        "id": "TFvX2nz10r65",
        "outputId": "d3e5391b-bb23-4809-d121-48bad47f9d8d"
      },
      "execution_count": 22,
      "outputs": [
        {
          "output_type": "stream",
          "name": "stdout",
          "text": [
            "5 \n",
            "5 4 \n",
            "5 4 3 \n",
            "5 4 3 2 \n",
            "5 4 3 2 1 \n"
          ]
        }
      ]
    },
    {
      "cell_type": "markdown",
      "source": [
        "2(b)"
      ],
      "metadata": {
        "id": "cwNb4s6l07De"
      }
    },
    {
      "cell_type": "code",
      "source": [
        "for i in range(1,6):\n",
        "  for j in  range(5,i-1,-1):\n",
        "    print(j,end=' ')\n",
        "  print()"
      ],
      "metadata": {
        "colab": {
          "base_uri": "https://localhost:8080/"
        },
        "id": "gDjFNwvr08_w",
        "outputId": "5561e43c-eb85-4b7b-fc63-dfb395f6e170"
      },
      "execution_count": 12,
      "outputs": [
        {
          "output_type": "stream",
          "name": "stdout",
          "text": [
            "5 4 3 2 1 \n",
            "5 4 3 2 \n",
            "5 4 3 \n",
            "5 4 \n",
            "5 \n"
          ]
        }
      ]
    },
    {
      "cell_type": "markdown",
      "source": [
        "2(c)"
      ],
      "metadata": {
        "id": "0AraP3sh1RzL"
      }
    },
    {
      "cell_type": "code",
      "source": [
        "n=int(input(\"Enter a number: \"))\n",
        "for i in range(n,0,-1):\n",
        "  for j in  range(n,i-1,-1):\n",
        "    print(j,end=' ')\n",
        "  print()"
      ],
      "metadata": {
        "colab": {
          "base_uri": "https://localhost:8080/"
        },
        "id": "yJxu8koB1TIl",
        "outputId": "45313d48-954e-40b8-b18c-f979b83a6799"
      },
      "execution_count": 14,
      "outputs": [
        {
          "output_type": "stream",
          "name": "stdout",
          "text": [
            "Enter a number: 8\n",
            "8 \n",
            "8 7 \n",
            "8 7 6 \n",
            "8 7 6 5 \n",
            "8 7 6 5 4 \n",
            "8 7 6 5 4 3 \n",
            "8 7 6 5 4 3 2 \n",
            "8 7 6 5 4 3 2 1 \n"
          ]
        }
      ]
    },
    {
      "cell_type": "markdown",
      "source": [
        "2(d)"
      ],
      "metadata": {
        "id": "Rvpna1kZ1x7j"
      }
    },
    {
      "cell_type": "code",
      "source": [
        "n=int(input(\"Enter a number: \"))\n",
        "for i in range(0,n):\n",
        "  for j in range(n-1,i-1,-1):\n",
        "    print(j+1,end=' ')\n",
        "  print()"
      ],
      "metadata": {
        "colab": {
          "base_uri": "https://localhost:8080/"
        },
        "id": "Kf6pncq010tE",
        "outputId": "ab472696-01df-4cf1-d314-73a9b1052579"
      },
      "execution_count": 21,
      "outputs": [
        {
          "output_type": "stream",
          "name": "stdout",
          "text": [
            "Enter a number: 8\n",
            "8 7 6 5 4 3 2 1 \n",
            "8 7 6 5 4 3 2 \n",
            "8 7 6 5 4 3 \n",
            "8 7 6 5 4 \n",
            "8 7 6 5 \n",
            "8 7 6 \n",
            "8 7 \n",
            "8 \n"
          ]
        }
      ]
    },
    {
      "cell_type": "markdown",
      "source": [
        "2(e)"
      ],
      "metadata": {
        "id": "LzQuY0QE3KId"
      }
    },
    {
      "cell_type": "code",
      "source": [
        "for i in range(5,0,-1):\n",
        "  for j in  range(5,i-1,-1):\n",
        "    print(j,end=' ')\n",
        "  print()\n",
        "for i in range(2,6):\n",
        "  for j in  range(5,i-1,-1):\n",
        "    print(j,end=' ')\n",
        "  print()"
      ],
      "metadata": {
        "colab": {
          "base_uri": "https://localhost:8080/"
        },
        "id": "-26RIkkX3Nd8",
        "outputId": "edc9e9c5-fbcd-4b62-af99-6f77c2ef8076"
      },
      "execution_count": 23,
      "outputs": [
        {
          "output_type": "stream",
          "name": "stdout",
          "text": [
            "5 \n",
            "5 4 \n",
            "5 4 3 \n",
            "5 4 3 2 \n",
            "5 4 3 2 1 \n",
            "5 4 3 2 \n",
            "5 4 3 \n",
            "5 4 \n",
            "5 \n"
          ]
        }
      ]
    },
    {
      "cell_type": "markdown",
      "source": [
        "3(a)"
      ],
      "metadata": {
        "id": "1-Z2Tus33Xiy"
      }
    },
    {
      "cell_type": "code",
      "source": [
        "for i in range(0,6):\n",
        "  for j in range(i,0,-1):\n",
        "    print(j,end=' ')\n",
        "  print()"
      ],
      "metadata": {
        "colab": {
          "base_uri": "https://localhost:8080/"
        },
        "id": "PgLYy5yx3ZJv",
        "outputId": "8634e755-6958-4206-9cf3-50c7b4132716"
      },
      "execution_count": 24,
      "outputs": [
        {
          "output_type": "stream",
          "name": "stdout",
          "text": [
            "\n",
            "1 \n",
            "2 1 \n",
            "3 2 1 \n",
            "4 3 2 1 \n",
            "5 4 3 2 1 \n"
          ]
        }
      ]
    },
    {
      "cell_type": "markdown",
      "source": [
        "3(b)"
      ],
      "metadata": {
        "id": "ikO8vH8Y36mZ"
      }
    },
    {
      "cell_type": "code",
      "source": [
        "for i in range(0,5+1):\n",
        "  for j in  range(5-i,0,-1):\n",
        "    print(j,end=' ')\n",
        "  print()"
      ],
      "metadata": {
        "colab": {
          "base_uri": "https://localhost:8080/"
        },
        "id": "7nrmXP1e39ZH",
        "outputId": "9c5e90f6-d468-452c-ab77-7e10fc75ee2a"
      },
      "execution_count": 25,
      "outputs": [
        {
          "output_type": "stream",
          "name": "stdout",
          "text": [
            "5 4 3 2 1 \n",
            "4 3 2 1 \n",
            "3 2 1 \n",
            "2 1 \n",
            "1 \n",
            "\n"
          ]
        }
      ]
    },
    {
      "cell_type": "markdown",
      "source": [
        "3(c)"
      ],
      "metadata": {
        "id": "ncY_QbnW4eAm"
      }
    },
    {
      "cell_type": "code",
      "source": [
        "for i in range(0,5):\n",
        "  for j in range(i,0,-1):\n",
        "    print(j,end=' ')\n",
        "  print()\n",
        "for i in range(0,5+1):\n",
        "  for j in  range(5-i,0,-1):\n",
        "    print(j,end=' ')\n",
        "  print()"
      ],
      "metadata": {
        "colab": {
          "base_uri": "https://localhost:8080/"
        },
        "id": "tEVmSHTP4fml",
        "outputId": "85af7229-0aa5-4495-b00b-dc969172cd22"
      },
      "execution_count": 26,
      "outputs": [
        {
          "output_type": "stream",
          "name": "stdout",
          "text": [
            "\n",
            "1 \n",
            "2 1 \n",
            "3 2 1 \n",
            "4 3 2 1 \n",
            "5 4 3 2 1 \n",
            "4 3 2 1 \n",
            "3 2 1 \n",
            "2 1 \n",
            "1 \n",
            "\n"
          ]
        }
      ]
    },
    {
      "cell_type": "markdown",
      "source": [
        "4."
      ],
      "metadata": {
        "id": "ryQhQ8mO4vCP"
      }
    },
    {
      "cell_type": "code",
      "source": [
        "for i in range(1,5):\n",
        "  for j in  range(0,5):\n",
        "    c=(i+j)%2\n",
        "    print(c,end=' ')\n",
        "  print()"
      ],
      "metadata": {
        "colab": {
          "base_uri": "https://localhost:8080/"
        },
        "id": "4zRa2f0i4w-1",
        "outputId": "aed518aa-6981-45f5-c67e-c5acc93e66e6"
      },
      "execution_count": 29,
      "outputs": [
        {
          "output_type": "stream",
          "name": "stdout",
          "text": [
            "1 0 1 0 1 \n",
            "0 1 0 1 0 \n",
            "1 0 1 0 1 \n",
            "0 1 0 1 0 \n"
          ]
        }
      ]
    },
    {
      "cell_type": "markdown",
      "source": [
        "5."
      ],
      "metadata": {
        "id": "raCRMxKl5NGr"
      }
    },
    {
      "cell_type": "code",
      "source": [
        "for i in range(1,5+1):\n",
        "  for j in  range(1,i+1):\n",
        "    c=j%2\n",
        "    print(c,end=' ')\n",
        "  print()"
      ],
      "metadata": {
        "colab": {
          "base_uri": "https://localhost:8080/"
        },
        "id": "xluX4bYF5O5O",
        "outputId": "9b62ad6c-863a-47c5-eea8-7f21d16e6390"
      },
      "execution_count": 30,
      "outputs": [
        {
          "output_type": "stream",
          "name": "stdout",
          "text": [
            "1 \n",
            "1 0 \n",
            "1 0 1 \n",
            "1 0 1 0 \n",
            "1 0 1 0 1 \n"
          ]
        }
      ]
    }
  ]
}