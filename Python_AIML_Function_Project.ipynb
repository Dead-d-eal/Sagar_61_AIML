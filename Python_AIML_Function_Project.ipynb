{
  "nbformat": 4,
  "nbformat_minor": 0,
  "metadata": {
    "colab": {
      "provenance": [],
      "authorship_tag": "ABX9TyMuvJx9wQh5YRIrC6aohRuC",
      "include_colab_link": true
    },
    "kernelspec": {
      "name": "python3",
      "display_name": "Python 3"
    },
    "language_info": {
      "name": "python"
    }
  },
  "cells": [
    {
      "cell_type": "markdown",
      "metadata": {
        "id": "view-in-github",
        "colab_type": "text"
      },
      "source": [
        "<a href=\"https://colab.research.google.com/github/Dead-d-eal/Sagar_61_AIML/blob/main/Python_AIML_Function_Project.ipynb\" target=\"_parent\"><img src=\"https://colab.research.google.com/assets/colab-badge.svg\" alt=\"Open In Colab\"/></a>"
      ]
    },
    {
      "cell_type": "markdown",
      "source": [
        "1."
      ],
      "metadata": {
        "id": "J1dIkakNuU2w"
      }
    },
    {
      "cell_type": "code",
      "execution_count": 1,
      "metadata": {
        "colab": {
          "base_uri": "https://localhost:8080/"
        },
        "id": "QnthnghFtopM",
        "outputId": "85505ac8-8081-4e72-81cd-611f35b28a90"
      },
      "outputs": [
        {
          "output_type": "stream",
          "name": "stdout",
          "text": [
            "\n",
            "1\n",
            "22\n",
            "333\n",
            "4444\n",
            "55555\n"
          ]
        }
      ],
      "source": [
        "def pat(n):\n",
        "  for i in range(0,n+1):\n",
        "    for j in range(i):\n",
        "      print(i,end='')\n",
        "    print()\n",
        "pat(5)"
      ]
    },
    {
      "cell_type": "markdown",
      "source": [
        "2."
      ],
      "metadata": {
        "id": "VVb9zIALuxJQ"
      }
    },
    {
      "cell_type": "code",
      "source": [
        "def pat(n):\n",
        "  for i in range(n,0,-1):\n",
        "    for j in range(0,i):\n",
        "      print(i,end='')\n",
        "    print()\n",
        "pat(5)"
      ],
      "metadata": {
        "colab": {
          "base_uri": "https://localhost:8080/"
        },
        "id": "CrXRzPHduyjV",
        "outputId": "fa617a88-bd36-41bc-d871-176e154fdcaa"
      },
      "execution_count": 2,
      "outputs": [
        {
          "output_type": "stream",
          "name": "stdout",
          "text": [
            "55555\n",
            "4444\n",
            "333\n",
            "22\n",
            "1\n"
          ]
        }
      ]
    },
    {
      "cell_type": "markdown",
      "source": [
        "3."
      ],
      "metadata": {
        "id": "LwOC0xDfu6zu"
      }
    },
    {
      "cell_type": "code",
      "source": [
        "def pat(n):\n",
        "  for i in range(0,n+1):\n",
        "    for j in range(i):\n",
        "      print(i,end='')\n",
        "    print()\n",
        "n=int(input(\"Enter a number: \"))\n",
        "pat(n)"
      ],
      "metadata": {
        "colab": {
          "base_uri": "https://localhost:8080/"
        },
        "id": "j8bh2_HHu8L6",
        "outputId": "0f5ff3e7-6ec9-4e2b-9d6b-ad0384b473db"
      },
      "execution_count": 3,
      "outputs": [
        {
          "output_type": "stream",
          "name": "stdout",
          "text": [
            "Enter a number: 6\n",
            "\n",
            "1\n",
            "22\n",
            "333\n",
            "4444\n",
            "55555\n",
            "666666\n"
          ]
        }
      ]
    },
    {
      "cell_type": "markdown",
      "source": [
        "4."
      ],
      "metadata": {
        "id": "TPhanO30vDMv"
      }
    },
    {
      "cell_type": "code",
      "source": [
        "def pat(n):\n",
        "  for i in range(n,0,-1):\n",
        "    for j in range(0,i):\n",
        "      print(i,end='')\n",
        "    print()\n",
        "n=int(input(\"Enter a number: \"))\n",
        "pat(n)"
      ],
      "metadata": {
        "colab": {
          "base_uri": "https://localhost:8080/"
        },
        "id": "_lSCnv2pvEHG",
        "outputId": "d66d855c-93ce-4696-f711-bb209c855271"
      },
      "execution_count": 4,
      "outputs": [
        {
          "output_type": "stream",
          "name": "stdout",
          "text": [
            "Enter a number: 6\n",
            "666666\n",
            "55555\n",
            "4444\n",
            "333\n",
            "22\n",
            "1\n"
          ]
        }
      ]
    },
    {
      "cell_type": "markdown",
      "source": [
        "5."
      ],
      "metadata": {
        "id": "0B3OsgSLvJB6"
      }
    },
    {
      "cell_type": "code",
      "source": [
        "def pat(n):\n",
        "  for i in range(0,n+1):\n",
        "    for j in range(i):\n",
        "      print(i,end='')\n",
        "    print()\n",
        "pat(5)\n",
        "def pat(n):\n",
        "  for i in range(n,0,-1):\n",
        "    for j in range(0,i):\n",
        "      print(i,end='')\n",
        "    print()\n",
        "pat(4)"
      ],
      "metadata": {
        "colab": {
          "base_uri": "https://localhost:8080/"
        },
        "id": "m58HV6ukvRqt",
        "outputId": "5412e225-7791-4fa5-cc59-9c9b11d90cfd"
      },
      "execution_count": 7,
      "outputs": [
        {
          "output_type": "stream",
          "name": "stdout",
          "text": [
            "\n",
            "1\n",
            "22\n",
            "333\n",
            "4444\n",
            "55555\n",
            "4444\n",
            "333\n",
            "22\n",
            "1\n"
          ]
        }
      ]
    },
    {
      "cell_type": "markdown",
      "source": [
        "6."
      ],
      "metadata": {
        "id": "BgGNrYY_vksC"
      }
    },
    {
      "cell_type": "code",
      "source": [
        "n=int(input(\"Enter a number: \"))\n",
        "def pat(n):\n",
        "  for i in range(0,n+1):\n",
        "    for j in range(i):\n",
        "      print(i,end='')\n",
        "    print()\n",
        "pat(n)\n",
        "def pat(n):\n",
        "  for i in range(n,0,-1):\n",
        "    for j in range(0,i):\n",
        "      print(i,end='')\n",
        "    print()\n",
        "pat(n-1)"
      ],
      "metadata": {
        "colab": {
          "base_uri": "https://localhost:8080/"
        },
        "id": "OiOqhawwvmW1",
        "outputId": "ac65ad74-3c03-4695-f1d2-fccf81de4ca7"
      },
      "execution_count": 9,
      "outputs": [
        {
          "output_type": "stream",
          "name": "stdout",
          "text": [
            "Enter a number: 6\n",
            "\n",
            "1\n",
            "22\n",
            "333\n",
            "4444\n",
            "55555\n",
            "666666\n",
            "55555\n",
            "4444\n",
            "333\n",
            "22\n",
            "1\n"
          ]
        }
      ]
    },
    {
      "cell_type": "markdown",
      "source": [
        "7."
      ],
      "metadata": {
        "id": "ZEgQXCDPwCLv"
      }
    },
    {
      "cell_type": "code",
      "source": [
        "def pat(n):\n",
        "     for i in range(5,0,-1):\n",
        "          for j in  range(5,i-1,-1):\n",
        "                print(j,end=' ')\n",
        "          print()\n",
        "pat(5)"
      ],
      "metadata": {
        "colab": {
          "base_uri": "https://localhost:8080/"
        },
        "id": "PWr-da9kwDSN",
        "outputId": "c109db9c-0b34-4cfe-bb14-28969f888725"
      },
      "execution_count": 12,
      "outputs": [
        {
          "output_type": "stream",
          "name": "stdout",
          "text": [
            "5 \n",
            "5 4 \n",
            "5 4 3 \n",
            "5 4 3 2 \n",
            "5 4 3 2 1 \n"
          ]
        }
      ]
    },
    {
      "cell_type": "markdown",
      "source": [
        "8."
      ],
      "metadata": {
        "id": "C6jfhK5fwxKz"
      }
    },
    {
      "cell_type": "code",
      "source": [
        "def pat(n):\n",
        "  for i in range(1,6):\n",
        "       for j in  range(5,i-1,-1):\n",
        "              print(j,end=' ')\n",
        "       print()\n",
        "pat(5)"
      ],
      "metadata": {
        "colab": {
          "base_uri": "https://localhost:8080/"
        },
        "id": "3JWxGLSZwyV8",
        "outputId": "3e1a9d3b-6bbc-4e73-a05d-ded6debc33d7"
      },
      "execution_count": 13,
      "outputs": [
        {
          "output_type": "stream",
          "name": "stdout",
          "text": [
            "5 4 3 2 1 \n",
            "5 4 3 2 \n",
            "5 4 3 \n",
            "5 4 \n",
            "5 \n"
          ]
        }
      ]
    },
    {
      "cell_type": "markdown",
      "source": [
        "9."
      ],
      "metadata": {
        "id": "z-oQxIKaxDab"
      }
    },
    {
      "cell_type": "code",
      "source": [
        "def pat(n):\n",
        "  for i in range(n,0,-1):\n",
        "     for j in  range(n,i-1,-1):\n",
        "       print(j,end=' ')\n",
        "     print()\n",
        "n=int(input(\"Enter a number: \"))\n",
        "pat(n)"
      ],
      "metadata": {
        "colab": {
          "base_uri": "https://localhost:8080/"
        },
        "id": "juq1Z6FVxEhs",
        "outputId": "ba70735b-65ca-48a3-ce7a-8be707af0412"
      },
      "execution_count": 15,
      "outputs": [
        {
          "output_type": "stream",
          "name": "stdout",
          "text": [
            "Enter a number: 6\n",
            "6 \n",
            "6 5 \n",
            "6 5 4 \n",
            "6 5 4 3 \n",
            "6 5 4 3 2 \n",
            "6 5 4 3 2 1 \n"
          ]
        }
      ]
    },
    {
      "cell_type": "markdown",
      "source": [
        "10."
      ],
      "metadata": {
        "id": "RwP_y1Gxxlsg"
      }
    },
    {
      "cell_type": "code",
      "source": [
        "def pat(n):\n",
        "  for i in range(0,n):\n",
        "      for j in range(n-1,i-1,-1):\n",
        "          print(j+1,end=' ')\n",
        "      print()\n",
        "n=int(input(\"Enter a number: \"))\n",
        "pat(n)"
      ],
      "metadata": {
        "colab": {
          "base_uri": "https://localhost:8080/"
        },
        "id": "269ZvC1fxnMX",
        "outputId": "4a6b6354-defe-4e34-cff6-3d01b0a50da3"
      },
      "execution_count": 21,
      "outputs": [
        {
          "output_type": "stream",
          "name": "stdout",
          "text": [
            "Enter a number: 6\n",
            "6 5 4 3 2 1 \n",
            "6 5 4 3 2 \n",
            "6 5 4 3 \n",
            "6 5 4 \n",
            "6 5 \n",
            "6 \n"
          ]
        }
      ]
    },
    {
      "cell_type": "markdown",
      "source": [
        "11."
      ],
      "metadata": {
        "id": "Nj-RmElkyi8G"
      }
    },
    {
      "cell_type": "code",
      "source": [
        "def pat(n): \n",
        "    for i in range(5,0,-1):\n",
        "         for j in  range(5,i-1,-1):\n",
        "             print(j,end=' ')\n",
        "         print()\n",
        "pat(5)\n",
        "def pat(n):\n",
        "    for i in range(2,6):\n",
        "        for j in  range(5,i-1,-1):\n",
        "           print(j,end=' ')\n",
        "        print()\n",
        "pat(5)"
      ],
      "metadata": {
        "colab": {
          "base_uri": "https://localhost:8080/"
        },
        "id": "Lm4P320sykF9",
        "outputId": "af155ad9-e301-47de-8335-9c82ba5d2f1a"
      },
      "execution_count": 33,
      "outputs": [
        {
          "output_type": "stream",
          "name": "stdout",
          "text": [
            "5 \n",
            "5 4 \n",
            "5 4 3 \n",
            "5 4 3 2 \n",
            "5 4 3 2 1 \n",
            "5 4 3 2 \n",
            "5 4 3 \n",
            "5 4 \n",
            "5 \n"
          ]
        }
      ]
    },
    {
      "cell_type": "markdown",
      "source": [
        "12."
      ],
      "metadata": {
        "id": "bE_VzaKTz4If"
      }
    },
    {
      "cell_type": "code",
      "source": [
        "def pat(n):\n",
        "     for i in range(0,6):\n",
        "        for j in range(i,0,-1):\n",
        "             print(j,end=' ')\n",
        "        print()\n",
        "pat(5)"
      ],
      "metadata": {
        "colab": {
          "base_uri": "https://localhost:8080/"
        },
        "id": "fequBM3J0ko8",
        "outputId": "23ef767a-2b2e-47d2-c644-6049eec010df"
      },
      "execution_count": 34,
      "outputs": [
        {
          "output_type": "stream",
          "name": "stdout",
          "text": [
            "\n",
            "1 \n",
            "2 1 \n",
            "3 2 1 \n",
            "4 3 2 1 \n",
            "5 4 3 2 1 \n"
          ]
        }
      ]
    },
    {
      "cell_type": "markdown",
      "source": [
        "13."
      ],
      "metadata": {
        "id": "fli-t16j00hR"
      }
    },
    {
      "cell_type": "code",
      "source": [
        "def pat(n):\n",
        "   for i in range(0,5+1):\n",
        "       for j in  range(5-i,0,-1):\n",
        "          print(j,end=' ')\n",
        "       print()\n",
        "pat(6)"
      ],
      "metadata": {
        "colab": {
          "base_uri": "https://localhost:8080/"
        },
        "id": "8XtsyUbv01bd",
        "outputId": "ba713e28-fb2f-49ef-ba16-eeaf2a6780a6"
      },
      "execution_count": 35,
      "outputs": [
        {
          "output_type": "stream",
          "name": "stdout",
          "text": [
            "5 4 3 2 1 \n",
            "4 3 2 1 \n",
            "3 2 1 \n",
            "2 1 \n",
            "1 \n",
            "\n"
          ]
        }
      ]
    },
    {
      "cell_type": "markdown",
      "source": [
        "14."
      ],
      "metadata": {
        "id": "qUCPNniO1A6m"
      }
    },
    {
      "cell_type": "code",
      "source": [
        "def pat(n):\n",
        "    for i in range(0,5):\n",
        "        for j in range(i,0,-1):\n",
        "           print(j,end=' ')\n",
        "        print()\n",
        "    for k in range(0,5+1):\n",
        "        for l in  range(5-k,0,-1):\n",
        "            print(l,end=' ')\n",
        "        print()\n",
        "pat(5)"
      ],
      "metadata": {
        "colab": {
          "base_uri": "https://localhost:8080/"
        },
        "id": "RwZj9zIr1CQ5",
        "outputId": "be85c993-368f-4765-b384-adf3635d0147"
      },
      "execution_count": 38,
      "outputs": [
        {
          "output_type": "stream",
          "name": "stdout",
          "text": [
            "\n",
            "1 \n",
            "2 1 \n",
            "3 2 1 \n",
            "4 3 2 1 \n",
            "5 4 3 2 1 \n",
            "4 3 2 1 \n",
            "3 2 1 \n",
            "2 1 \n",
            "1 \n",
            "\n"
          ]
        }
      ]
    },
    {
      "cell_type": "markdown",
      "source": [
        "15."
      ],
      "metadata": {
        "id": "99_bRg_G1nqI"
      }
    },
    {
      "cell_type": "code",
      "source": [
        "def pat(n):\n",
        "    for i in range(1,5):\n",
        "        for j in  range(0,5):\n",
        "           c=(i+j)%2\n",
        "           print(c,end=' ')\n",
        "        print()\n",
        "pat(5)"
      ],
      "metadata": {
        "colab": {
          "base_uri": "https://localhost:8080/"
        },
        "id": "yf7C9Zeo1pOy",
        "outputId": "15b11393-5463-4b71-9ac0-9263236aaf48"
      },
      "execution_count": 39,
      "outputs": [
        {
          "output_type": "stream",
          "name": "stdout",
          "text": [
            "1 0 1 0 1 \n",
            "0 1 0 1 0 \n",
            "1 0 1 0 1 \n",
            "0 1 0 1 0 \n"
          ]
        }
      ]
    },
    {
      "cell_type": "markdown",
      "source": [
        "16."
      ],
      "metadata": {
        "id": "uiCEgkPd15F1"
      }
    },
    {
      "cell_type": "code",
      "source": [
        "def pat(n):\n",
        "   for i in range(1,5+1):\n",
        "      for j in  range(1,i+1):\n",
        "          c=j%2\n",
        "          print(c,end=' ')\n",
        "      print()\n",
        "pat(5)"
      ],
      "metadata": {
        "colab": {
          "base_uri": "https://localhost:8080/"
        },
        "id": "r9k8cnD5163j",
        "outputId": "0b25152e-eff2-466c-8c52-0d420c786087"
      },
      "execution_count": 40,
      "outputs": [
        {
          "output_type": "stream",
          "name": "stdout",
          "text": [
            "1 \n",
            "1 0 \n",
            "1 0 1 \n",
            "1 0 1 0 \n",
            "1 0 1 0 1 \n"
          ]
        }
      ]
    }
  ]
}