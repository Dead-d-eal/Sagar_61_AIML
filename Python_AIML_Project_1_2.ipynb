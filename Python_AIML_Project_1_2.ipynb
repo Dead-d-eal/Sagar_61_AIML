{
  "nbformat": 4,
  "nbformat_minor": 0,
  "metadata": {
    "colab": {
      "provenance": [],
      "authorship_tag": "ABX9TyPOSB4pAFPiFkLWAqKFsJt5",
      "include_colab_link": true
    },
    "kernelspec": {
      "name": "python3",
      "display_name": "Python 3"
    },
    "language_info": {
      "name": "python"
    }
  },
  "cells": [
    {
      "cell_type": "markdown",
      "metadata": {
        "id": "view-in-github",
        "colab_type": "text"
      },
      "source": [
        "<a href=\"https://colab.research.google.com/github/Dead-d-eal/Sagar_61_AIML/blob/main/Python_AIML_Project_1_2.ipynb\" target=\"_parent\"><img src=\"https://colab.research.google.com/assets/colab-badge.svg\" alt=\"Open In Colab\"/></a>"
      ]
    },
    {
      "cell_type": "markdown",
      "source": [
        "Using looping structures (for, while looping structure (DO THE SEPARATE LOOPING STRUCTURE))\n",
        "\n"
      ],
      "metadata": {
        "id": "fBw08luSGUSN"
      }
    },
    {
      "cell_type": "markdown",
      "source": [
        "Using For loop:"
      ],
      "metadata": {
        "id": "PS-U64M7Ggoj"
      }
    },
    {
      "cell_type": "markdown",
      "source": [
        "(xiv)"
      ],
      "metadata": {
        "id": "S1fqtY7xGkV0"
      }
    },
    {
      "cell_type": "code",
      "execution_count": null,
      "metadata": {
        "colab": {
          "base_uri": "https://localhost:8080/"
        },
        "id": "xhQ6eDk3GJf_",
        "outputId": "a7c7f3cd-9093-4a51-caed-2064f05ba712"
      },
      "outputs": [
        {
          "output_type": "stream",
          "name": "stdout",
          "text": [
            "Enter a number: 5\n",
            "s= 1\n",
            "s= 3\n",
            "s= 6\n",
            "s= 10\n"
          ]
        }
      ],
      "source": [
        "n=int(input(\"Enter a number: \"))\n",
        "s=0\n",
        "for i in range(1,n):\n",
        "  s=s+i\n",
        "  print('s=',s)"
      ]
    },
    {
      "cell_type": "markdown",
      "source": [
        "(xv)"
      ],
      "metadata": {
        "id": "GdOFSEHzHuzi"
      }
    },
    {
      "cell_type": "code",
      "source": [
        "n=int(input(\"Enter a number: \"))\n",
        "s=0\n",
        "for i in range(1,n,2):\n",
        "  s=s+i\n",
        "  print('s=',s)"
      ],
      "metadata": {
        "colab": {
          "base_uri": "https://localhost:8080/"
        },
        "id": "TgVNI8fwHxqV",
        "outputId": "b69d09a9-3a57-4a72-ed2c-e626d3e932d7"
      },
      "execution_count": null,
      "outputs": [
        {
          "output_type": "stream",
          "name": "stdout",
          "text": [
            "Enter a number: 10\n",
            "s= 1\n",
            "s= 4\n",
            "s= 9\n",
            "s= 16\n",
            "s= 25\n"
          ]
        }
      ]
    },
    {
      "cell_type": "markdown",
      "source": [
        "(xvi)"
      ],
      "metadata": {
        "id": "gXDS1IxPH7Kl"
      }
    },
    {
      "cell_type": "code",
      "source": [
        "n=int(input(\"Enter a number: \"))\n",
        "s=0\n",
        "for i in range(2,n,2):\n",
        "  s=s+i\n",
        "  print('s=',s)"
      ],
      "metadata": {
        "colab": {
          "base_uri": "https://localhost:8080/"
        },
        "id": "6ccQT13xH-W3",
        "outputId": "c202304b-6e4e-4c1e-f775-fea5e1b57e27"
      },
      "execution_count": null,
      "outputs": [
        {
          "output_type": "stream",
          "name": "stdout",
          "text": [
            "Enter a number: 10\n",
            "s= 2\n",
            "s= 6\n",
            "s= 12\n",
            "s= 20\n"
          ]
        }
      ]
    },
    {
      "cell_type": "markdown",
      "source": [
        "(xvii)"
      ],
      "metadata": {
        "id": "n8WLHQ5fIC8t"
      }
    },
    {
      "cell_type": "code",
      "source": [
        "n=int(input(\"Enter a number: \"))\n",
        "s=0\n",
        "for i in range(1,n):\n",
        "  c=i*i\n",
        "  s=s+c\n",
        "  print('s=',s)"
      ],
      "metadata": {
        "colab": {
          "base_uri": "https://localhost:8080/"
        },
        "id": "LHaYVlV5IL1R",
        "outputId": "effae465-e8d6-4f8f-b7e2-000dffa55327"
      },
      "execution_count": null,
      "outputs": [
        {
          "output_type": "stream",
          "name": "stdout",
          "text": [
            "Enter a number: 5\n",
            "s= 1\n",
            "s= 5\n",
            "s= 14\n",
            "s= 30\n"
          ]
        }
      ]
    },
    {
      "cell_type": "markdown",
      "source": [
        "(xviii)"
      ],
      "metadata": {
        "id": "5Fi0a8jiIXf7"
      }
    },
    {
      "cell_type": "code",
      "source": [
        "n=int(input(\"Enter a number: \"))\n",
        "s=0\n",
        "for i in range(1,n,2):\n",
        "  c=i*i\n",
        "  s=s+c\n",
        "  print('s=',s)"
      ],
      "metadata": {
        "colab": {
          "base_uri": "https://localhost:8080/"
        },
        "id": "UFpidVZGIY72",
        "outputId": "dc150196-7396-4bad-cd8a-28977402d0a0"
      },
      "execution_count": null,
      "outputs": [
        {
          "output_type": "stream",
          "name": "stdout",
          "text": [
            "Enter a number: 10\n",
            "s= 1\n",
            "s= 10\n",
            "s= 35\n",
            "s= 84\n",
            "s= 165\n"
          ]
        }
      ]
    },
    {
      "cell_type": "markdown",
      "source": [
        "(xix)"
      ],
      "metadata": {
        "id": "vLgcZi3oIeoI"
      }
    },
    {
      "cell_type": "code",
      "source": [
        "n=int(input(\"Enter a number: \"))\n",
        "s=0\n",
        "for i in range(2,n,2):\n",
        "  c=i*i\n",
        "  s=s+c\n",
        "  print('s=',s)"
      ],
      "metadata": {
        "colab": {
          "base_uri": "https://localhost:8080/"
        },
        "id": "V6ecpGy2Igv_",
        "outputId": "eef8d520-a762-419d-ac66-e7b002d7f400"
      },
      "execution_count": null,
      "outputs": [
        {
          "output_type": "stream",
          "name": "stdout",
          "text": [
            "Enter a number: 10\n",
            "s= 4\n",
            "s= 20\n",
            "s= 56\n",
            "s= 120\n"
          ]
        }
      ]
    },
    {
      "cell_type": "markdown",
      "source": [
        "(xx)"
      ],
      "metadata": {
        "id": "nqDK1R0MIlH0"
      }
    },
    {
      "cell_type": "code",
      "source": [
        "n=int(input(\"Enter a number: \"))\n",
        "e=int(input(\"Enter a value: \"))\n",
        "s=0\n",
        "for j in range(1,n):\n",
        "  def power(j,e):\n",
        "    res=0\n",
        "    for i in range(e):\n",
        "        res *= j\n",
        "    return res   \n",
        "  s=s+pow(j,e)\n",
        "  print('s=',s)"
      ],
      "metadata": {
        "colab": {
          "base_uri": "https://localhost:8080/"
        },
        "id": "vA_A0eFcJJ_Q",
        "outputId": "c4e5b96d-c3b5-48d8-c8b6-9477ed5e0e51"
      },
      "execution_count": null,
      "outputs": [
        {
          "output_type": "stream",
          "name": "stdout",
          "text": [
            "Enter a number: 5\n",
            "Enter a value: 3\n",
            "s= 1\n",
            "s= 9\n",
            "s= 36\n",
            "s= 100\n"
          ]
        }
      ]
    },
    {
      "cell_type": "markdown",
      "source": [
        "(xxi)"
      ],
      "metadata": {
        "id": "YZacbnW3KB7D"
      }
    },
    {
      "cell_type": "code",
      "source": [
        "n=int(input(\"Enter a number: \"))\n",
        "e=int(input(\"Enter a value: \"))\n",
        "s=0\n",
        "for j in range(1,n,2):\n",
        "  def power(j,e):\n",
        "    res=0\n",
        "    for i in range(e):\n",
        "        res *= j\n",
        "    return res   \n",
        "  s=s+pow(j,e)\n",
        "  print('s=',s)"
      ],
      "metadata": {
        "colab": {
          "base_uri": "https://localhost:8080/"
        },
        "id": "y-wpyupjKEuw",
        "outputId": "f7faba9b-ed00-4838-9bec-b40dbdd1539d"
      },
      "execution_count": null,
      "outputs": [
        {
          "output_type": "stream",
          "name": "stdout",
          "text": [
            "Enter a number: 10\n",
            "Enter a value: 4\n",
            "s= 1\n",
            "s= 82\n",
            "s= 707\n",
            "s= 3108\n",
            "s= 9669\n"
          ]
        }
      ]
    },
    {
      "cell_type": "markdown",
      "source": [
        "(xxii)"
      ],
      "metadata": {
        "id": "ydGYfzbcKNCa"
      }
    },
    {
      "cell_type": "code",
      "source": [
        "n=int(input(\"Enter a number: \"))\n",
        "e=int(input(\"Enter a value: \"))\n",
        "s=0\n",
        "for j in range(2,n,2):\n",
        "  def power(j,e):\n",
        "    res=0\n",
        "    for i in range(e):\n",
        "        res *= j\n",
        "    return res   \n",
        "  s=s+pow(j,e)\n",
        "  print('s=',s)"
      ],
      "metadata": {
        "colab": {
          "base_uri": "https://localhost:8080/"
        },
        "id": "6oc11bDmKRd6",
        "outputId": "42571224-890c-4ebe-e100-991a5a1c415e"
      },
      "execution_count": null,
      "outputs": [
        {
          "output_type": "stream",
          "name": "stdout",
          "text": [
            "Enter a number: 10\n",
            "Enter a value: 4\n",
            "s= 16\n",
            "s= 272\n",
            "s= 1568\n",
            "s= 5664\n"
          ]
        }
      ]
    },
    {
      "cell_type": "markdown",
      "source": [
        "(xxiii)"
      ],
      "metadata": {
        "id": "SeVbY_8IKW8G"
      }
    },
    {
      "cell_type": "code",
      "source": [
        "n=int(input(\"Enter a number: \"))\n",
        "s=0\n",
        "for i in range(1,n):\n",
        "  f=1\n",
        "  for j in range(1,i+1):\n",
        "    f=f*j\n",
        "  s=s+f\n",
        "  print('s=',s)"
      ],
      "metadata": {
        "colab": {
          "base_uri": "https://localhost:8080/"
        },
        "id": "2G65L0WzKiLn",
        "outputId": "6882ff66-484e-47c8-d318-eee3c6c0ae0e"
      },
      "execution_count": null,
      "outputs": [
        {
          "output_type": "stream",
          "name": "stdout",
          "text": [
            "Enter a number: 5\n",
            "s= 1\n",
            "s= 3\n",
            "s= 9\n",
            "s= 33\n"
          ]
        }
      ]
    },
    {
      "cell_type": "markdown",
      "source": [
        "(xxiv)"
      ],
      "metadata": {
        "id": "IHjBbZvyK1kO"
      }
    },
    {
      "cell_type": "code",
      "source": [
        "n=int(input(\"Enter a number: \"))\n",
        "s=0\n",
        "for i in range(1,n,2):\n",
        "  f=1\n",
        "  for j in range(1,i+1):\n",
        "    f=f*j\n",
        "  s=s+f\n",
        "  print('s=',s)"
      ],
      "metadata": {
        "colab": {
          "base_uri": "https://localhost:8080/"
        },
        "id": "0Hfk6EF9K69V",
        "outputId": "c7e9cf39-bf98-48f6-8e34-ccbe167d2c51"
      },
      "execution_count": null,
      "outputs": [
        {
          "output_type": "stream",
          "name": "stdout",
          "text": [
            "Enter a number: 10\n",
            "s= 1\n",
            "s= 7\n",
            "s= 127\n",
            "s= 5167\n",
            "s= 368047\n"
          ]
        }
      ]
    },
    {
      "cell_type": "markdown",
      "source": [
        "(xxv)"
      ],
      "metadata": {
        "id": "GRNNT9elLBEk"
      }
    },
    {
      "cell_type": "code",
      "source": [
        "n=int(input(\"Enter a number: \"))\n",
        "s=0\n",
        "for i in range(2,n,2):\n",
        "  f=1\n",
        "  for j in range(1,i+1):\n",
        "    f=f*j\n",
        "  s=s+f\n",
        "  print('s=',s)"
      ],
      "metadata": {
        "colab": {
          "base_uri": "https://localhost:8080/"
        },
        "id": "7utQ2Fp-LDFT",
        "outputId": "19eafc04-6549-4392-a301-76debbbf1a37"
      },
      "execution_count": null,
      "outputs": [
        {
          "output_type": "stream",
          "name": "stdout",
          "text": [
            "Enter a number: 10\n",
            "s= 2\n",
            "s= 26\n",
            "s= 746\n",
            "s= 41066\n"
          ]
        }
      ]
    },
    {
      "cell_type": "markdown",
      "source": [
        "Using While loop"
      ],
      "metadata": {
        "id": "QrMdFQauNC-q"
      }
    },
    {
      "cell_type": "markdown",
      "source": [
        "(xiv)"
      ],
      "metadata": {
        "id": "xbJsbXG8NIRK"
      }
    },
    {
      "cell_type": "code",
      "source": [
        "n = int(input(\"Enter a number: \"))\n",
        "i=1\n",
        "s=0\n",
        "while i<=n:\n",
        "  s=s+i\n",
        "  print('s=',s)\n",
        "  i=i+1"
      ],
      "metadata": {
        "colab": {
          "base_uri": "https://localhost:8080/"
        },
        "id": "AZhUDggxNMlj",
        "outputId": "91f22cdf-41a9-47e5-f5ae-7816525c3b56"
      },
      "execution_count": null,
      "outputs": [
        {
          "output_type": "stream",
          "name": "stdout",
          "text": [
            "Enter a number: 10\n",
            "s= 1\n",
            "s= 3\n",
            "s= 6\n",
            "s= 10\n",
            "s= 15\n",
            "s= 21\n",
            "s= 28\n",
            "s= 36\n",
            "s= 45\n",
            "s= 55\n"
          ]
        }
      ]
    },
    {
      "cell_type": "markdown",
      "source": [
        "(xv)"
      ],
      "metadata": {
        "id": "Wonzf3WDNoZH"
      }
    },
    {
      "cell_type": "code",
      "source": [
        "n = int(input(\"Enter a number: \"))\n",
        "i=1\n",
        "s=0\n",
        "while i<=n:\n",
        "   if i%2==0:\n",
        "     s=s+i\n",
        "     print('s=',s)\n",
        "   i=i+1"
      ],
      "metadata": {
        "colab": {
          "base_uri": "https://localhost:8080/"
        },
        "id": "PkF1stUfNp-m",
        "outputId": "8562b433-be35-4180-acb0-ebd6f8110c77"
      },
      "execution_count": null,
      "outputs": [
        {
          "output_type": "stream",
          "name": "stdout",
          "text": [
            "Enter a number: 10\n",
            "s= 2\n",
            "s= 6\n",
            "s= 12\n",
            "s= 20\n",
            "s= 30\n"
          ]
        }
      ]
    },
    {
      "cell_type": "markdown",
      "source": [
        "(xvi)"
      ],
      "metadata": {
        "id": "hQ1ZMq0sN9_4"
      }
    },
    {
      "cell_type": "code",
      "source": [
        "n = int(input(\"Enter a number: \"))\n",
        "i=1\n",
        "s=0\n",
        "while i<=n:\n",
        "   if i%2!=0:\n",
        "     s=s+i\n",
        "     print('s=',s)\n",
        "   i=i+1"
      ],
      "metadata": {
        "colab": {
          "base_uri": "https://localhost:8080/"
        },
        "id": "o5oEVEgDN_kD",
        "outputId": "9b165218-31a8-4714-ceb0-df5bc218fe53"
      },
      "execution_count": null,
      "outputs": [
        {
          "output_type": "stream",
          "name": "stdout",
          "text": [
            "Enter a number: 10\n",
            "s= 1\n",
            "s= 4\n",
            "s= 9\n",
            "s= 16\n",
            "s= 25\n"
          ]
        }
      ]
    },
    {
      "cell_type": "markdown",
      "source": [
        "(xvii)"
      ],
      "metadata": {
        "id": "9kXtCeOPODqi"
      }
    },
    {
      "cell_type": "code",
      "source": [
        "n = int(input(\"Enter a number: \"))\n",
        "i=1\n",
        "s=0\n",
        "while i<=n:\n",
        "  c=i*i\n",
        "  s=s+c\n",
        "  print('s=',s)\n",
        "  i=i+1"
      ],
      "metadata": {
        "colab": {
          "base_uri": "https://localhost:8080/"
        },
        "id": "sBPciLirOMJY",
        "outputId": "c5c29acf-80b8-4a68-946e-98761e3cdce1"
      },
      "execution_count": null,
      "outputs": [
        {
          "output_type": "stream",
          "name": "stdout",
          "text": [
            "Enter a number: 5\n",
            "s= 1\n",
            "s= 5\n",
            "s= 14\n",
            "s= 30\n",
            "s= 55\n"
          ]
        }
      ]
    },
    {
      "cell_type": "markdown",
      "source": [
        "(xviii)"
      ],
      "metadata": {
        "id": "eLRdn9JIOxWx"
      }
    },
    {
      "cell_type": "code",
      "source": [
        "n = int(input(\"Enter a number: \"))\n",
        "i=1\n",
        "s=0\n",
        "while i<=n:\n",
        "   if i%2!=0:\n",
        "     c=i*i\n",
        "     s=s+c\n",
        "     print('s=',s)\n",
        "   i=i+1"
      ],
      "metadata": {
        "colab": {
          "base_uri": "https://localhost:8080/"
        },
        "id": "iL8fl324OzR3",
        "outputId": "f2dcdc8e-20b6-4b55-ec65-3892a29ec0d3"
      },
      "execution_count": null,
      "outputs": [
        {
          "output_type": "stream",
          "name": "stdout",
          "text": [
            "Enter a number: 10\n",
            "s= 1\n",
            "s= 10\n",
            "s= 35\n",
            "s= 84\n",
            "s= 165\n"
          ]
        }
      ]
    },
    {
      "cell_type": "markdown",
      "source": [
        "(xix)"
      ],
      "metadata": {
        "id": "aqx4WWa7PPPs"
      }
    },
    {
      "cell_type": "code",
      "source": [
        "n = int(input(\"Enter a number: \"))\n",
        "i=1\n",
        "s=0\n",
        "while i<=n:\n",
        "   if i%2==0:\n",
        "     c=i*i\n",
        "     s=s+c\n",
        "     print('s=',s)\n",
        "   i=i+1"
      ],
      "metadata": {
        "colab": {
          "base_uri": "https://localhost:8080/"
        },
        "id": "RQCD9cJcPR4T",
        "outputId": "2fec5ee4-6b35-4c3d-90c1-04cf4fd4d45f"
      },
      "execution_count": null,
      "outputs": [
        {
          "output_type": "stream",
          "name": "stdout",
          "text": [
            "Enter a number: 10\n",
            "s= 4\n",
            "s= 20\n",
            "s= 56\n",
            "s= 120\n",
            "s= 220\n"
          ]
        }
      ]
    },
    {
      "cell_type": "markdown",
      "source": [
        "(xx)"
      ],
      "metadata": {
        "id": "gv3-4oBFPbb5"
      }
    },
    {
      "cell_type": "code",
      "source": [
        "n=int(input(\"Enter a number: \"))\n",
        "e=int(input(\"Enter a value: \"))\n",
        "i=1\n",
        "s=0\n",
        "while i<=n:\n",
        "  def power(i,e):\n",
        "    res=0\n",
        "    for j in range(e):\n",
        "        res *= i\n",
        "    return res   \n",
        "  s=s+pow(i,e)\n",
        "  print('s=',s)\n",
        "  i=i+1"
      ],
      "metadata": {
        "colab": {
          "base_uri": "https://localhost:8080/"
        },
        "id": "YuNALTiOPzV8",
        "outputId": "7e27ba16-fe36-409d-c4a6-3712b407f24b"
      },
      "execution_count": null,
      "outputs": [
        {
          "output_type": "stream",
          "name": "stdout",
          "text": [
            "Enter a number: 5\n",
            "Enter a value: 3\n",
            "s= 1\n",
            "s= 9\n",
            "s= 36\n",
            "s= 100\n",
            "s= 225\n"
          ]
        }
      ]
    },
    {
      "cell_type": "markdown",
      "source": [
        "(xxi)"
      ],
      "metadata": {
        "id": "b-jTSHi3QFPK"
      }
    },
    {
      "cell_type": "code",
      "source": [
        "n=int(input(\"Enter a number: \"))\n",
        "e=int(input(\"Enter a value: \"))\n",
        "i=1\n",
        "s=0\n",
        "while i<=n:\n",
        "  if i%2!=0:\n",
        "     def power(i,e):\n",
        "        res=0\n",
        "        for j in range(e):\n",
        "          res *= i\n",
        "        return res \n",
        "     s=s+pow(i,e)\n",
        "     print('s=',s)\n",
        "  i=i+1"
      ],
      "metadata": {
        "colab": {
          "base_uri": "https://localhost:8080/"
        },
        "id": "E579Yzt6QMLp",
        "outputId": "5693918a-4c45-43bb-977b-88c58111f2e7"
      },
      "execution_count": null,
      "outputs": [
        {
          "output_type": "stream",
          "name": "stdout",
          "text": [
            "Enter a number: 10\n",
            "Enter a value: 3\n",
            "s= 1\n",
            "s= 28\n",
            "s= 153\n",
            "s= 496\n",
            "s= 1225\n"
          ]
        }
      ]
    },
    {
      "cell_type": "markdown",
      "source": [
        "(xxii)"
      ],
      "metadata": {
        "id": "b17QZvbvQkSQ"
      }
    },
    {
      "cell_type": "code",
      "source": [
        "n=int(input(\"Enter a number: \"))\n",
        "e=int(input(\"Enter a value: \"))\n",
        "i=1\n",
        "s=0\n",
        "while i<=n:\n",
        "  if i%2==0:\n",
        "     def power(i,e):\n",
        "        res=0\n",
        "        for j in range(e):\n",
        "          res *= i\n",
        "        return res \n",
        "     s=s+pow(i,e)\n",
        "     print('s=',s)\n",
        "  i=i+1"
      ],
      "metadata": {
        "colab": {
          "base_uri": "https://localhost:8080/"
        },
        "id": "YUf18E_kQpoj",
        "outputId": "258554a0-88f2-4a0b-f6b2-0f891dd5d385"
      },
      "execution_count": null,
      "outputs": [
        {
          "output_type": "stream",
          "name": "stdout",
          "text": [
            "Enter a number: 10\n",
            "Enter a value: 4\n",
            "s= 16\n",
            "s= 272\n",
            "s= 1568\n",
            "s= 5664\n",
            "s= 15664\n"
          ]
        }
      ]
    },
    {
      "cell_type": "markdown",
      "source": [
        "(xxiii)"
      ],
      "metadata": {
        "id": "9zHGuUjDQunN"
      }
    },
    {
      "cell_type": "code",
      "source": [
        "n=int(input(\"Enter a number: \"))\n",
        "f=1\n",
        "i=1\n",
        "s=0\n",
        "while i<=n:\n",
        "  f=f*i\n",
        "  s=s+f\n",
        "  print('s=',s)\n",
        "  i=i+1"
      ],
      "metadata": {
        "colab": {
          "base_uri": "https://localhost:8080/"
        },
        "id": "8cSI3LpxQ6WC",
        "outputId": "9cbefa73-0bc1-4d9a-9a16-ee19a90ae0e0"
      },
      "execution_count": null,
      "outputs": [
        {
          "output_type": "stream",
          "name": "stdout",
          "text": [
            "Enter a number: 5\n",
            "s= 1\n",
            "s= 3\n",
            "s= 9\n",
            "s= 33\n",
            "s= 153\n"
          ]
        }
      ]
    },
    {
      "cell_type": "markdown",
      "source": [
        "(xxiv)"
      ],
      "metadata": {
        "id": "x8Cm8Yi7RDiB"
      }
    },
    {
      "cell_type": "code",
      "source": [
        "from re import I\n",
        "n=int(input(\"Enter a number: \"))\n",
        "f=1\n",
        "i=1\n",
        "s=0\n",
        "while i<=n:\n",
        "   if i%2!=0:\n",
        "     f=f*i\n",
        "     s=s+f\n",
        "     print('s=',s)\n",
        "   i=i+1"
      ],
      "metadata": {
        "colab": {
          "base_uri": "https://localhost:8080/"
        },
        "id": "F4eIl43ARHgR",
        "outputId": "836781a8-1350-4968-916a-c784c1383681"
      },
      "execution_count": null,
      "outputs": [
        {
          "output_type": "stream",
          "name": "stdout",
          "text": [
            "Enter a number: 10\n",
            "s= 1\n",
            "s= 4\n",
            "s= 19\n",
            "s= 124\n",
            "s= 1069\n"
          ]
        }
      ]
    },
    {
      "cell_type": "markdown",
      "source": [
        "(xxv)"
      ],
      "metadata": {
        "id": "EgD9hEtDRQk5"
      }
    },
    {
      "cell_type": "code",
      "source": [
        "from re import I\n",
        "n=int(input(\"Enter a number: \"))\n",
        "f=1\n",
        "i=1\n",
        "s=0\n",
        "while i<=n:\n",
        "   if i%2==0:\n",
        "     f=f*i\n",
        "     s=s+f\n",
        "     print('s=',s)\n",
        "   i=i+1"
      ],
      "metadata": {
        "colab": {
          "base_uri": "https://localhost:8080/"
        },
        "id": "fPwXGRPrRT9h",
        "outputId": "a01c22c4-ea22-4dd2-84a9-251dc3c1ed5c"
      },
      "execution_count": null,
      "outputs": [
        {
          "output_type": "stream",
          "name": "stdout",
          "text": [
            "Enter a number: 10\n",
            "s= 2\n",
            "s= 10\n",
            "s= 58\n",
            "s= 442\n",
            "s= 4282\n"
          ]
        }
      ]
    }
  ]
}