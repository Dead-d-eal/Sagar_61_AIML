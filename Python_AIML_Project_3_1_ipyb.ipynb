{
  "nbformat": 4,
  "nbformat_minor": 0,
  "metadata": {
    "colab": {
      "provenance": [],
      "authorship_tag": "ABX9TyNA5RfQtxaEpqHcizmDWg7C",
      "include_colab_link": true
    },
    "kernelspec": {
      "name": "python3",
      "display_name": "Python 3"
    },
    "language_info": {
      "name": "python"
    }
  },
  "cells": [
    {
      "cell_type": "markdown",
      "metadata": {
        "id": "view-in-github",
        "colab_type": "text"
      },
      "source": [
        "<a href=\"https://colab.research.google.com/github/Dead-d-eal/Sagar_61_AIML/blob/main/Python_AIML_Project_3_1_ipyb.ipynb\" target=\"_parent\"><img src=\"https://colab.research.google.com/assets/colab-badge.svg\" alt=\"Open In Colab\"/></a>"
      ]
    },
    {
      "cell_type": "markdown",
      "source": [
        "Write a PYTHON programming using if, if…else and elif statements:"
      ],
      "metadata": {
        "id": "AhcpxKkH_m9i"
      }
    },
    {
      "cell_type": "markdown",
      "source": [
        "1. A company decided to give bonus of 5% to employee if his/her year of service is more than 5 years. Ask user for their salary and year of service and print the net bonus amount"
      ],
      "metadata": {
        "id": "4otNkPXx_q_r"
      }
    },
    {
      "cell_type": "code",
      "execution_count": 1,
      "metadata": {
        "colab": {
          "base_uri": "https://localhost:8080/"
        },
        "id": "l1bUvT5x_UFp",
        "outputId": "da82d838-704b-4061-8b6d-2ed5b3e62f76"
      },
      "outputs": [
        {
          "output_type": "stream",
          "name": "stdout",
          "text": [
            "Enter the salary of the employee = 6000\n",
            "Enter the year of service of the employee =6\n",
            "Your bonus amount =  300.0\n"
          ]
        }
      ],
      "source": [
        "Sal=float(input('Enter the salary of the employee = '))\n",
        "Y_S=int(input('Enter the year of service of the employee ='))\n",
        "if(Y_S>5):\n",
        "  Bonus=Sal*5/100\n",
        "  print('Your bonus amount = ',Bonus)"
      ]
    },
    {
      "cell_type": "markdown",
      "source": [
        "2. Take values of length and breadth of a rectangle from user and check if it is square or not."
      ],
      "metadata": {
        "id": "aWZXs6LXANgC"
      }
    },
    {
      "cell_type": "code",
      "source": [
        "l=int(input('ENTER THE LENGTH OF THE RECTANGLE = '))\n",
        "b=int(input('ENTER THE BREADTH OF THE RECTANGLE = '))\n",
        "if (l==b):\n",
        "  print('THIS IS A SQUARE')\n",
        "else:\n",
        "  print('THIS IS NOT A SQUARE')"
      ],
      "metadata": {
        "colab": {
          "base_uri": "https://localhost:8080/"
        },
        "id": "z3uvr3h0AV4O",
        "outputId": "3b044ed0-51cd-461d-b1cb-77bb8575849c"
      },
      "execution_count": 2,
      "outputs": [
        {
          "output_type": "stream",
          "name": "stdout",
          "text": [
            "ENTER THE LENGTH OF THE RECTANGLE = 5\n",
            "ENTER THE BREADTH OF THE RECTANGLE = 5\n",
            "THIS IS A SQUARE\n"
          ]
        }
      ]
    },
    {
      "cell_type": "markdown",
      "source": [
        "3. Take two int values from user and print greatest among them."
      ],
      "metadata": {
        "id": "gdhHfZj2AvXf"
      }
    },
    {
      "cell_type": "code",
      "source": [
        "a=int(input(\"Enter the value of a: \"))\n",
        "b=int(input(\"Enter the value of b: \"))\n",
        "if a>b:\n",
        "  print(a,'is greatest')\n",
        "else:\n",
        "  print(b,'is greatest')"
      ],
      "metadata": {
        "colab": {
          "base_uri": "https://localhost:8080/"
        },
        "id": "pesL3QS4A5X9",
        "outputId": "6884378d-7972-4688-b51d-45947f1f95ae"
      },
      "execution_count": 4,
      "outputs": [
        {
          "output_type": "stream",
          "name": "stdout",
          "text": [
            "Enter the value of a: 7\n",
            "Enter the value of b: 4\n",
            "7 is greatest\n"
          ]
        }
      ]
    },
    {
      "cell_type": "markdown",
      "source": [
        "4. A shop will give discount of 10% if the cost of purchased quantity is more than 1000."
      ],
      "metadata": {
        "id": "K4_CMgf7BwWV"
      }
    },
    {
      "cell_type": "code",
      "source": [
        "quantity=int(input('enter the amount of purchased quantity = '))\n",
        "cost=int(quantity*100)\n",
        "Ta=float(cost-(cost*10/100))\n",
        "if(cost>1000):\n",
        "  print('the total amount = ',Ta)\n",
        "else:\n",
        "  print('your total amount will be =',cost,)"
      ],
      "metadata": {
        "colab": {
          "base_uri": "https://localhost:8080/"
        },
        "id": "4T3fIXYmBzxc",
        "outputId": "ee43dd7a-3e02-42ce-e145-13683811e8c8"
      },
      "execution_count": 6,
      "outputs": [
        {
          "output_type": "stream",
          "name": "stdout",
          "text": [
            "enter the amount of purchased quantity = 7\n",
            "your total amount will be = 700\n"
          ]
        }
      ]
    },
    {
      "cell_type": "markdown",
      "source": [
        "5. A school has following rules for grading system:\n",
        "a. Below 25 - F\n",
        "b. 25 to 45 - E\n",
        "c. 45 to 50 - D\n",
        "d. 50 to 60 - C\n",
        "e. 60 to 80 - B\n",
        "f. Above 80 - A\n",
        "Ask user to enter marks and print the corresponding grade.\n"
      ],
      "metadata": {
        "id": "wFAaQSWDCQaO"
      }
    },
    {
      "cell_type": "code",
      "source": [
        "mark=float(input(\"Enter marks: \"))\n",
        "if mark<25:\n",
        "  print('Grade is F')\n",
        "elif (mark>=25) and (mark<45):\n",
        "  print('Garde is E')\n",
        "elif (mark>=45) and (mark<50):\n",
        "  print('Garde is D')\n",
        "elif (mark>=50) and (mark<60):\n",
        "  print('Garde is C')\n",
        "elif (mark>=60) and (mark<80):\n",
        "  print('Garde is B')\n",
        "elif mark>80:\n",
        "  print('Garde is A')\n",
        "else:\n",
        "  print(['Data not found.'])"
      ],
      "metadata": {
        "colab": {
          "base_uri": "https://localhost:8080/"
        },
        "id": "7dSCdldZCXwh",
        "outputId": "84249465-910f-4ba9-a89f-afc0813ccf57"
      },
      "execution_count": 7,
      "outputs": [
        {
          "output_type": "stream",
          "name": "stdout",
          "text": [
            "Enter marks: 67.5\n",
            "Garde is B\n"
          ]
        }
      ]
    },
    {
      "cell_type": "markdown",
      "source": [
        "6. Take input of age of 3 people by user and determine oldest and youngest among them."
      ],
      "metadata": {
        "id": "KYALiPLcIYqk"
      }
    },
    {
      "cell_type": "code",
      "source": [
        "A=int(input(\"Enter the age of A: \"))\n",
        "B=int(input(\"Enter the age of B: \"))\n",
        "C=int(input(\"Enter the age of C: \"))\n",
        "if A>B:\n",
        "  print('A is Oldest.')\n",
        "elif B>C:\n",
        "  print('B is Oldest.')\n",
        "else:\n",
        "  print('C is Oldest')\n",
        "if A<B:\n",
        "    print('A is Youngest')\n",
        "elif B<C:\n",
        "    print('B is Youngest')\n",
        "else:\n",
        "    print('C is Youngest.')"
      ],
      "metadata": {
        "colab": {
          "base_uri": "https://localhost:8080/"
        },
        "id": "UrDhS0GFIcBx",
        "outputId": "0a2ef407-1bf6-4768-dbd7-3398af1a2dcd"
      },
      "execution_count": 9,
      "outputs": [
        {
          "output_type": "stream",
          "name": "stdout",
          "text": [
            "Enter the age of A: 70\n",
            "Enter the age of B: 67\n",
            "Enter the age of C: 78\n",
            "A is Oldest.\n",
            "B is Youngest\n"
          ]
        }
      ]
    },
    {
      "cell_type": "markdown",
      "source": [
        "7. Write a program to print absolute vlaue of a number entered by user. E.g.-\n",
        "INPUT: 1        OUTPUT: 1\n",
        "INPUT: -1       OUTPUT: 1\n"
      ],
      "metadata": {
        "id": "M0tzPiKLKIia"
      }
    },
    {
      "cell_type": "code",
      "source": [
        "n=int(input(\"Enter a number\"))\n",
        "output=abs(n)\n",
        "if output == abs(n):\n",
        "  print('Output:',output)"
      ],
      "metadata": {
        "colab": {
          "base_uri": "https://localhost:8080/"
        },
        "id": "el1XW7HLKL44",
        "outputId": "fc16f14a-4f42-433f-8b8a-94222327da3f"
      },
      "execution_count": 15,
      "outputs": [
        {
          "output_type": "stream",
          "name": "stdout",
          "text": [
            "Enter a number-2\n",
            "Output: 2\n"
          ]
        }
      ]
    },
    {
      "cell_type": "markdown",
      "source": [
        "8.A student will not be allowed to sit in exam if his/her attendence is less than 75%.\n",
        "Take following input from user\n",
        "Number of classes held\n",
        "Number of classes attended.\n",
        "And print\n",
        "percentage of class attended\n",
        "Is student is allowed to sit in exam or not.\n"
      ],
      "metadata": {
        "id": "GIu0_XC8MxNF"
      }
    },
    {
      "cell_type": "code",
      "source": [
        "NC=int(input('Enter no of classes: '))\n",
        "NCA=int(input('Enter no of classes attended: '))\n",
        "Prc=(NCA/NC)*100\n",
        "print('Percentage of class attended: ',Prc,'%')\n",
        "if Prc<75:\n",
        "  print(\"Student is not allowed to sit in exam.\")\n",
        "else:\n",
        "  print(\"Student is allowed to sit in exam.\")"
      ],
      "metadata": {
        "colab": {
          "base_uri": "https://localhost:8080/"
        },
        "id": "TRThJGMoM1bj",
        "outputId": "5dc18069-1c92-443e-fd8d-c57699a83dde"
      },
      "execution_count": 21,
      "outputs": [
        {
          "output_type": "stream",
          "name": "stdout",
          "text": [
            "Enter no of classes: 100\n",
            "Enter no of classes attended: 80\n",
            "Percentage of class attended:  80.0 %\n",
            "Student is allowed to sit in exam.\n"
          ]
        }
      ]
    },
    {
      "cell_type": "markdown",
      "source": [
        "9. Traffic light:\n",
        "Write a python program that will check for the following conditions:\n",
        "If the light is green – Car is allowed to go\n",
        "If the light is yellow – Car has to wait\n",
        "If the light is red – Car has to stop\n"
      ],
      "metadata": {
        "id": "Wu918RLjO9CR"
      }
    },
    {
      "cell_type": "code",
      "source": [
        "light=str(input('THE COLOR OF THE TRAFFIC LIGHT IS : '))\n",
        "if(light=='green'):\n",
        "  print('CAR IS ALLOWED TO GO !')\n",
        "elif(light=='yellow'):\n",
        "  print('CAR HAS TO WAIT !')\n",
        "else:\n",
        "  print('CAR HAS TO STOP !')"
      ],
      "metadata": {
        "colab": {
          "base_uri": "https://localhost:8080/"
        },
        "id": "bCdXFrSCPCsB",
        "outputId": "b55c7d2b-e833-48e1-bd5e-8299360d55b1"
      },
      "execution_count": 22,
      "outputs": [
        {
          "output_type": "stream",
          "name": "stdout",
          "text": [
            "THE COLOR OF THE TRAFFIC LIGHT IS : green\n",
            "CAR IS ALLOWED TO GO !\n"
          ]
        }
      ]
    }
  ]
}