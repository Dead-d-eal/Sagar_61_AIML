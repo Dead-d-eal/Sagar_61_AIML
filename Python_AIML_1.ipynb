{
  "nbformat": 4,
  "nbformat_minor": 0,
  "metadata": {
    "colab": {
      "provenance": [],
      "authorship_tag": "ABX9TyPgf9Lxd91bgHdC2BWyBwx7",
      "include_colab_link": true
    },
    "kernelspec": {
      "name": "python3",
      "display_name": "Python 3"
    },
    "language_info": {
      "name": "python"
    }
  },
  "cells": [
    {
      "cell_type": "markdown",
      "metadata": {
        "id": "view-in-github",
        "colab_type": "text"
      },
      "source": [
        "<a href=\"https://colab.research.google.com/github/Dead-d-eal/Sagar_61_AIML/blob/main/Python_AIML_1.ipynb\" target=\"_parent\"><img src=\"https://colab.research.google.com/assets/colab-badge.svg\" alt=\"Open In Colab\"/></a>"
      ]
    },
    {
      "cell_type": "markdown",
      "source": [
        "1.\tInput radius finds AREA OF CIRCLE and PERIMETER OF THE CIRCLE"
      ],
      "metadata": {
        "id": "UKk7GjRKCljk"
      }
    },
    {
      "cell_type": "code",
      "execution_count": null,
      "metadata": {
        "colab": {
          "base_uri": "https://localhost:8080/"
        },
        "id": "ucWeHPa5CdF2",
        "outputId": "8c61b6d2-f3e2-4f4b-cf3a-2abfe558f514"
      },
      "outputs": [
        {
          "output_type": "stream",
          "name": "stdout",
          "text": [
            "Enter the value of Radius: 5\n",
            "The Area Of Circle:  78\n",
            "Perimeter of the Circle:  31\n"
          ]
        }
      ],
      "source": [
        "r=int(input(\"Enter the value of Radius: \"))\n",
        "A=int(3.141*r*r)\n",
        "print(\"The Area Of Circle: \",A)\n",
        "P=int(2*3.141*r)\n",
        "print(\"Perimeter of the Circle: \",P)"
      ]
    },
    {
      "cell_type": "markdown",
      "source": [
        "2.\tInput Kilometer converts to centimeter, meter, and millimeter"
      ],
      "metadata": {
        "id": "_yNBzO_EEWYV"
      }
    },
    {
      "cell_type": "code",
      "source": [
        "D=int(input(\"Enter the value in Km: \"))\n",
        "M=1000*D\n",
        "print(\"Convert to Meter: \",M,\"m\")\n",
        "CM=100000*D\n",
        "print(\"Convert to Centimeter: \",CM,\"cm\")\n",
        "MM=1000000*D\n",
        "print(\"Convert to Milimeter: \",MM,\"mm\")"
      ],
      "metadata": {
        "colab": {
          "base_uri": "https://localhost:8080/"
        },
        "id": "3LAIUENJEiwy",
        "outputId": "5b5e38ce-1ab9-4c72-a841-6c0d4d25198f"
      },
      "execution_count": null,
      "outputs": [
        {
          "output_type": "stream",
          "name": "stdout",
          "text": [
            "Enter the value in Km: 5\n",
            "Convert to Meter:  5000 m\n",
            "Convert to Centimeter:  500000 cm\n",
            "Convert to Milimeter:  5000000 mm\n"
          ]
        }
      ]
    },
    {
      "cell_type": "markdown",
      "source": [
        "3.\tInput two numbers find sum without ‘+’operator"
      ],
      "metadata": {
        "id": "4DeD1GMBHOJJ"
      }
    },
    {
      "cell_type": "code",
      "source": [
        "a=int(input(\"Enter the value of a: \"))\n",
        "b=int(input(\"Enetr the value of b: \"))\n",
        "def sum(a,b):\n",
        "    for i in range(1,b+1):\n",
        "      a=a+1\n",
        "    return a  \n",
        "print(\"The sum of the value: \",sum(a,b))"
      ],
      "metadata": {
        "id": "GOksBi6jHYgN",
        "colab": {
          "base_uri": "https://localhost:8080/"
        },
        "outputId": "060ac4cb-3061-4ed5-9ccc-ba8a09344799"
      },
      "execution_count": 17,
      "outputs": [
        {
          "output_type": "stream",
          "name": "stdout",
          "text": [
            "Enter the value of a: 3\n",
            "Enetr the value of b: 4\n",
            "The sum of the value:  7\n"
          ]
        }
      ]
    },
    {
      "cell_type": "markdown",
      "source": [
        "4.\tInput two numbers find remainder without ‘%’."
      ],
      "metadata": {
        "id": "iHSTWcBCLjz6"
      }
    },
    {
      "cell_type": "code",
      "source": [
        "a=int(input(\"Enter the value of a: \"))\n",
        "b=int(input(\"Enetr the value of b: \"))\n",
        "def rem(a,b):\n",
        "  return(a-b*(a//b))\n",
        "print(\"The reminder value: \",rem(a,b))"
      ],
      "metadata": {
        "colab": {
          "base_uri": "https://localhost:8080/"
        },
        "id": "R5s0yQ03LjMj",
        "outputId": "d9e7e2ca-333f-4cd9-ee9f-ba52c0254e87"
      },
      "execution_count": 20,
      "outputs": [
        {
          "output_type": "stream",
          "name": "stdout",
          "text": [
            "Enter the value of a: 100\n",
            "Enetr the value of b: 8\n",
            "The reminder value:  4\n"
          ]
        }
      ]
    },
    {
      "cell_type": "markdown",
      "source": [
        "5.\tInput temperature finds Celsius and Fahrenheit and vice-versa."
      ],
      "metadata": {
        "id": "5Zq5hwilMYow"
      }
    },
    {
      "cell_type": "code",
      "source": [
        "Celsius=float(input(\"Enter the value : \"))\n",
        "Fahrenheit= (Celsius * 1.8) + 32\n",
        "print(\"The Value in Fahrenheit\",Fahrenheit)\n",
        "Fahrenheit_f=float(input(\"Enter the value : \"))\n",
        "Celsius_c=int((Fahrenheit_f - 32)  / 1.8)\n",
        "print(\"The Value in Celsius\",Celsius_c)\n"
      ],
      "metadata": {
        "colab": {
          "base_uri": "https://localhost:8080/"
        },
        "id": "0iQVEwbmMcN7",
        "outputId": "aa8607a9-06aa-4e52-8ae6-ab93cbae762e"
      },
      "execution_count": 24,
      "outputs": [
        {
          "output_type": "stream",
          "name": "stdout",
          "text": [
            "Enter the value : 23\n",
            "The Value in Fahrenheit 73.4\n",
            "Enter the value : 73.4\n",
            "The Value in Celsius 23\n"
          ]
        }
      ]
    },
    {
      "cell_type": "markdown",
      "source": [
        "6.\tInput a number finds reverse number without looping structure"
      ],
      "metadata": {
        "id": "lAAle2oKRW2I"
      }
    },
    {
      "cell_type": "code",
      "source": [
        "n = int(input('Enter the number: '))\n",
        "rev = int(str(n)[::-1])\n",
        "print('The reverse number is =', rev)"
      ],
      "metadata": {
        "colab": {
          "base_uri": "https://localhost:8080/"
        },
        "id": "PyNtWZ-9RsPt",
        "outputId": "db205395-8e3f-4e40-d3bb-da1863668b2b"
      },
      "execution_count": 27,
      "outputs": [
        {
          "output_type": "stream",
          "name": "stdout",
          "text": [
            "Enter the number: 123\n",
            "The reverse number is = 321\n"
          ]
        }
      ]
    }
  ]
}